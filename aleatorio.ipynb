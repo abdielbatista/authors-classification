{
 "cells": [
  {
   "cell_type": "code",
   "execution_count": 58,
   "id": "63aa6ef5-8511-479a-b636-590155d626d2",
   "metadata": {},
   "outputs": [],
   "source": [
    "#importando bibliotecas\n",
    "\n",
    "import numpy as np #trabalhar com numeros\n",
    "import pandas as pd #manipulação de dados\n",
    "\n",
    "import random #necessário para ultilizar o módulo\n",
    "from random import randint\n",
    "\n",
    "\n",
    "import matplotlib.pyplot as plt\n"
   ]
  },
  {
   "cell_type": "code",
   "execution_count": 59,
   "id": "525af04d-a03d-4179-acfa-f4bb712dc877",
   "metadata": {},
   "outputs": [
    {
     "data": {
      "text/html": [
       "<div>\n",
       "<style scoped>\n",
       "    .dataframe tbody tr th:only-of-type {\n",
       "        vertical-align: middle;\n",
       "    }\n",
       "\n",
       "    .dataframe tbody tr th {\n",
       "        vertical-align: top;\n",
       "    }\n",
       "\n",
       "    .dataframe thead th {\n",
       "        text-align: right;\n",
       "    }\n",
       "</style>\n",
       "<table border=\"1\" class=\"dataframe\">\n",
       "  <thead>\n",
       "    <tr style=\"text-align: right;\">\n",
       "      <th></th>\n",
       "      <th>AverageShortestPathLength</th>\n",
       "      <th>BetweennessCentrality</th>\n",
       "      <th>ClosenessCentrality</th>\n",
       "      <th>ClusteringCoefficient</th>\n",
       "      <th>Degree</th>\n",
       "      <th>Eccentricity</th>\n",
       "      <th>IsSingleNode</th>\n",
       "      <th>NeighborhoodConnectivity</th>\n",
       "      <th>NumberOfUndirectedEdges</th>\n",
       "      <th>PartnerOfMultiEdgedNodePairs</th>\n",
       "      <th>Radiality</th>\n",
       "      <th>Stress</th>\n",
       "      <th>TopologicalCoefficient</th>\n",
       "      <th>Role</th>\n",
       "    </tr>\n",
       "  </thead>\n",
       "  <tbody>\n",
       "    <tr>\n",
       "      <th>0</th>\n",
       "      <td>7.284477</td>\n",
       "      <td>0.003115</td>\n",
       "      <td>0.137278</td>\n",
       "      <td>0.214286</td>\n",
       "      <td>24</td>\n",
       "      <td>14</td>\n",
       "      <td>False</td>\n",
       "      <td>3.000000</td>\n",
       "      <td>24</td>\n",
       "      <td>8</td>\n",
       "      <td>0.934537</td>\n",
       "      <td>421940</td>\n",
       "      <td>0.250000</td>\n",
       "      <td>1</td>\n",
       "    </tr>\n",
       "    <tr>\n",
       "      <th>1</th>\n",
       "      <td>7.285516</td>\n",
       "      <td>0.001038</td>\n",
       "      <td>0.137259</td>\n",
       "      <td>0.400000</td>\n",
       "      <td>16</td>\n",
       "      <td>14</td>\n",
       "      <td>False</td>\n",
       "      <td>4.000000</td>\n",
       "      <td>16</td>\n",
       "      <td>5</td>\n",
       "      <td>0.934526</td>\n",
       "      <td>210960</td>\n",
       "      <td>0.333333</td>\n",
       "      <td>1</td>\n",
       "    </tr>\n",
       "    <tr>\n",
       "      <th>2</th>\n",
       "      <td>6.289328</td>\n",
       "      <td>0.005531</td>\n",
       "      <td>0.159000</td>\n",
       "      <td>0.466667</td>\n",
       "      <td>12</td>\n",
       "      <td>13</td>\n",
       "      <td>False</td>\n",
       "      <td>7.833333</td>\n",
       "      <td>12</td>\n",
       "      <td>6</td>\n",
       "      <td>0.944903</td>\n",
       "      <td>773476</td>\n",
       "      <td>0.290123</td>\n",
       "      <td>2</td>\n",
       "    </tr>\n",
       "    <tr>\n",
       "      <th>3</th>\n",
       "      <td>5.621275</td>\n",
       "      <td>0.007808</td>\n",
       "      <td>0.177896</td>\n",
       "      <td>0.181818</td>\n",
       "      <td>30</td>\n",
       "      <td>13</td>\n",
       "      <td>False</td>\n",
       "      <td>8.750000</td>\n",
       "      <td>30</td>\n",
       "      <td>12</td>\n",
       "      <td>0.951862</td>\n",
       "      <td>1181032</td>\n",
       "      <td>0.128676</td>\n",
       "      <td>1</td>\n",
       "    </tr>\n",
       "    <tr>\n",
       "      <th>4</th>\n",
       "      <td>5.477131</td>\n",
       "      <td>0.000479</td>\n",
       "      <td>0.182577</td>\n",
       "      <td>0.523810</td>\n",
       "      <td>16</td>\n",
       "      <td>13</td>\n",
       "      <td>False</td>\n",
       "      <td>22.285714</td>\n",
       "      <td>16</td>\n",
       "      <td>7</td>\n",
       "      <td>0.953363</td>\n",
       "      <td>121978</td>\n",
       "      <td>0.327731</td>\n",
       "      <td>2</td>\n",
       "    </tr>\n",
       "  </tbody>\n",
       "</table>\n",
       "</div>"
      ],
      "text/plain": [
       "   AverageShortestPathLength  BetweennessCentrality  ClosenessCentrality  \\\n",
       "0                   7.284477               0.003115             0.137278   \n",
       "1                   7.285516               0.001038             0.137259   \n",
       "2                   6.289328               0.005531             0.159000   \n",
       "3                   5.621275               0.007808             0.177896   \n",
       "4                   5.477131               0.000479             0.182577   \n",
       "\n",
       "   ClusteringCoefficient  Degree  Eccentricity  IsSingleNode  \\\n",
       "0               0.214286      24            14         False   \n",
       "1               0.400000      16            14         False   \n",
       "2               0.466667      12            13         False   \n",
       "3               0.181818      30            13         False   \n",
       "4               0.523810      16            13         False   \n",
       "\n",
       "   NeighborhoodConnectivity  NumberOfUndirectedEdges  \\\n",
       "0                  3.000000                       24   \n",
       "1                  4.000000                       16   \n",
       "2                  7.833333                       12   \n",
       "3                  8.750000                       30   \n",
       "4                 22.285714                       16   \n",
       "\n",
       "   PartnerOfMultiEdgedNodePairs  Radiality   Stress  TopologicalCoefficient  \\\n",
       "0                             8   0.934537   421940                0.250000   \n",
       "1                             5   0.934526   210960                0.333333   \n",
       "2                             6   0.944903   773476                0.290123   \n",
       "3                            12   0.951862  1181032                0.128676   \n",
       "4                             7   0.953363   121978                0.327731   \n",
       "\n",
       "   Role  \n",
       "0     1  \n",
       "1     1  \n",
       "2     2  \n",
       "3     1  \n",
       "4     2  "
      ]
     },
     "execution_count": 59,
     "metadata": {},
     "output_type": "execute_result"
    }
   ],
   "source": [
    "#lendo os dados\n",
    "bd = pd.read_csv('sic-rotulado.csv')\n",
    "\n",
    "#verificando as 5 primeiras linhas\n",
    "bd.head()"
   ]
  },
  {
   "cell_type": "code",
   "execution_count": 60,
   "id": "254856a5-40a2-4976-9b7d-e1473a67a7b4",
   "metadata": {},
   "outputs": [],
   "source": [
    "#y recebe apenas a coluna role\n",
    "y = bd.iloc[:,13].values"
   ]
  },
  {
   "cell_type": "code",
   "execution_count": 61,
   "id": "de6b91a5-2e68-40ed-8912-3892cece4900",
   "metadata": {},
   "outputs": [
    {
     "data": {
      "text/plain": [
       "{1: 492,\n",
       " 2: 526,\n",
       " 7: 58,\n",
       " 8: 3,\n",
       " 9: 1,\n",
       " 1002: 5,\n",
       " 1004: 1,\n",
       " 1006: 1,\n",
       " 1009: 3,\n",
       " 1010: 11,\n",
       " 1011: 2,\n",
       " 1012: 1,\n",
       " 1013: 1,\n",
       " 1015: 1,\n",
       " 1033: 1,\n",
       " 1035: 2,\n",
       " 1041: 4,\n",
       " 1042: 1,\n",
       " 1045: 2,\n",
       " 1052: 2,\n",
       " 1056: 1,\n",
       " 1060: 1,\n",
       " 1065: 1}"
      ]
     },
     "execution_count": 61,
     "metadata": {},
     "output_type": "execute_result"
    }
   ],
   "source": [
    "#conta ocorrências da coluna Role por atributo\n",
    "unique, counts = np.unique(y, return_counts=True)\n",
    "dict(zip(unique, counts))"
   ]
  },
  {
   "cell_type": "code",
   "execution_count": 62,
   "id": "d62ec1ee-5a30-4164-9bef-da8ab09e0a80",
   "metadata": {},
   "outputs": [],
   "source": [
    "role = [1, 2, 7, 8, 9, 1002, 1004, 1006, 1009, 1010, 1011, 1012, 1013, 1015, 1033, 1035, 1041, 1042, 1045, 1052, 1056, 1060, 1065]"
   ]
  },
  {
   "cell_type": "code",
   "execution_count": 63,
   "id": "d5b78cdb-3825-424b-9361-1c5743498532",
   "metadata": {},
   "outputs": [
    {
     "data": {
      "text/plain": [
       "int"
      ]
     },
     "execution_count": 63,
     "metadata": {},
     "output_type": "execute_result"
    }
   ],
   "source": [
    "type(role[1])"
   ]
  },
  {
   "cell_type": "code",
   "execution_count": 64,
   "id": "79158df1-92d4-4fa8-98bb-5fbcd9e848eb",
   "metadata": {},
   "outputs": [],
   "source": [
    "vetor = list(range(30))\n",
    "\n",
    "for I in range(30):\n",
    "\n",
    "        rand = []\n",
    "        for v in range(1121):\n",
    "            group = random.choice(role)\n",
    "            rand.append(group)\n",
    "\n",
    "        bd[\"Random\"]=rand\n",
    "\n",
    "        total_iguais = np.sum(bd['Role'] == bd['Random'])\n",
    "        total = len(bd)\n",
    "        acuracia = total_iguais / total\n",
    "        \n",
    "        vetor[I] = acuracia"
   ]
  },
  {
   "cell_type": "code",
   "execution_count": 65,
   "id": "e95c304c-0ca8-4b03-a81b-0e31d9723ce5",
   "metadata": {},
   "outputs": [
    {
     "name": "stdout",
     "output_type": "stream",
     "text": [
      "Acuracia: 0.03479036574487065 \n"
     ]
    }
   ],
   "source": [
    "print(f'Acuracia: {acuracia} ')"
   ]
  },
  {
   "cell_type": "code",
   "execution_count": 66,
   "id": "ab278e3f-938d-4f8f-9aea-7062140b1bba",
   "metadata": {},
   "outputs": [
    {
     "data": {
      "image/png": "[encoded data removed]",
      "text/plain": [
       "<Figure size 576x432 with 1 Axes>"
      ]
     },
     "metadata": {},
     "output_type": "display_data"
    }
   ],
   "source": [
    "from importlib import reload\n",
    "reload(plt) #recarregando configurações do plt (erro no gráfico)\n",
    "\n",
    "plt.figure(figsize=(8,6))\n",
    "plt.style.use('ggplot')\n",
    "plt.boxplot(vetor)\n",
    "plt.title('Acurácia do algoritmo ALEATORIO (após 30 execuções)');"
   ]
  },
  {
   "cell_type": "code",
   "execution_count": 67,
   "id": "918282fb-f0de-4375-9051-a4a002338114",
   "metadata": {},
   "outputs": [],
   "source": [
    "#removendo valores que podem causar vies na analise "
   ]
  },
  {
   "cell_type": "code",
   "execution_count": 68,
   "id": "826aef21-bc58-4e1f-8c3f-79443a60a738",
   "metadata": {},
   "outputs": [
    {
     "data": {
      "text/plain": [
       "{1: 492,\n",
       " 2: 526,\n",
       " 7: 58,\n",
       " 8: 3,\n",
       " 9: 1,\n",
       " 1002: 5,\n",
       " 1004: 1,\n",
       " 1006: 1,\n",
       " 1009: 3,\n",
       " 1010: 11,\n",
       " 1011: 2,\n",
       " 1012: 1,\n",
       " 1013: 1,\n",
       " 1015: 1,\n",
       " 1033: 1,\n",
       " 1035: 2,\n",
       " 1041: 4,\n",
       " 1042: 1,\n",
       " 1045: 2,\n",
       " 1052: 2,\n",
       " 1056: 1,\n",
       " 1060: 1,\n",
       " 1065: 1}"
      ]
     },
     "execution_count": 68,
     "metadata": {},
     "output_type": "execute_result"
    }
   ],
   "source": [
    "#conta ocorrências da coluna Role por atributo\n",
    "unique, counts = np.unique(y, return_counts=True)\n",
    "dict(zip(unique, counts))"
   ]
  },
  {
   "cell_type": "code",
   "execution_count": 69,
   "id": "8db52805-25d9-4f16-babf-defe594d2717",
   "metadata": {},
   "outputs": [],
   "source": [
    "#crio um novo Banco De Dados, neste seleciono os dados que somente apresentam na coluna ROLE os valores 1,2,7\n",
    "#por serem os que mais se repetem\n",
    "bd_mascara = bd['Role'].isin([1,2,7]) \n",
    "bd_filtrado = bd[bd_mascara]"
   ]
  },
  {
   "cell_type": "code",
   "execution_count": 70,
   "id": "65968517-864f-4f58-a708-e7dfea55a88c",
   "metadata": {},
   "outputs": [
    {
     "data": {
      "text/html": [
       "<div>\n",
       "<style scoped>\n",
       "    .dataframe tbody tr th:only-of-type {\n",
       "        vertical-align: middle;\n",
       "    }\n",
       "\n",
       "    .dataframe tbody tr th {\n",
       "        vertical-align: top;\n",
       "    }\n",
       "\n",
       "    .dataframe thead th {\n",
       "        text-align: right;\n",
       "    }\n",
       "</style>\n",
       "<table border=\"1\" class=\"dataframe\">\n",
       "  <thead>\n",
       "    <tr style=\"text-align: right;\">\n",
       "      <th></th>\n",
       "      <th>AverageShortestPathLength</th>\n",
       "      <th>BetweennessCentrality</th>\n",
       "      <th>ClosenessCentrality</th>\n",
       "      <th>ClusteringCoefficient</th>\n",
       "      <th>Degree</th>\n",
       "      <th>Eccentricity</th>\n",
       "      <th>IsSingleNode</th>\n",
       "      <th>NeighborhoodConnectivity</th>\n",
       "      <th>NumberOfUndirectedEdges</th>\n",
       "      <th>PartnerOfMultiEdgedNodePairs</th>\n",
       "      <th>Radiality</th>\n",
       "      <th>Stress</th>\n",
       "      <th>TopologicalCoefficient</th>\n",
       "      <th>Role</th>\n",
       "      <th>Random</th>\n",
       "    </tr>\n",
       "  </thead>\n",
       "  <tbody>\n",
       "    <tr>\n",
       "      <th>0</th>\n",
       "      <td>7.284477</td>\n",
       "      <td>0.003115</td>\n",
       "      <td>0.137278</td>\n",
       "      <td>0.214286</td>\n",
       "      <td>24</td>\n",
       "      <td>14</td>\n",
       "      <td>False</td>\n",
       "      <td>3.000000</td>\n",
       "      <td>24</td>\n",
       "      <td>8</td>\n",
       "      <td>0.934537</td>\n",
       "      <td>421940</td>\n",
       "      <td>0.250000</td>\n",
       "      <td>1</td>\n",
       "      <td>1065</td>\n",
       "    </tr>\n",
       "    <tr>\n",
       "      <th>1</th>\n",
       "      <td>7.285516</td>\n",
       "      <td>0.001038</td>\n",
       "      <td>0.137259</td>\n",
       "      <td>0.400000</td>\n",
       "      <td>16</td>\n",
       "      <td>14</td>\n",
       "      <td>False</td>\n",
       "      <td>4.000000</td>\n",
       "      <td>16</td>\n",
       "      <td>5</td>\n",
       "      <td>0.934526</td>\n",
       "      <td>210960</td>\n",
       "      <td>0.333333</td>\n",
       "      <td>1</td>\n",
       "      <td>1065</td>\n",
       "    </tr>\n",
       "    <tr>\n",
       "      <th>2</th>\n",
       "      <td>6.289328</td>\n",
       "      <td>0.005531</td>\n",
       "      <td>0.159000</td>\n",
       "      <td>0.466667</td>\n",
       "      <td>12</td>\n",
       "      <td>13</td>\n",
       "      <td>False</td>\n",
       "      <td>7.833333</td>\n",
       "      <td>12</td>\n",
       "      <td>6</td>\n",
       "      <td>0.944903</td>\n",
       "      <td>773476</td>\n",
       "      <td>0.290123</td>\n",
       "      <td>2</td>\n",
       "      <td>1013</td>\n",
       "    </tr>\n",
       "    <tr>\n",
       "      <th>3</th>\n",
       "      <td>5.621275</td>\n",
       "      <td>0.007808</td>\n",
       "      <td>0.177896</td>\n",
       "      <td>0.181818</td>\n",
       "      <td>30</td>\n",
       "      <td>13</td>\n",
       "      <td>False</td>\n",
       "      <td>8.750000</td>\n",
       "      <td>30</td>\n",
       "      <td>12</td>\n",
       "      <td>0.951862</td>\n",
       "      <td>1181032</td>\n",
       "      <td>0.128676</td>\n",
       "      <td>1</td>\n",
       "      <td>1035</td>\n",
       "    </tr>\n",
       "    <tr>\n",
       "      <th>4</th>\n",
       "      <td>5.477131</td>\n",
       "      <td>0.000479</td>\n",
       "      <td>0.182577</td>\n",
       "      <td>0.523810</td>\n",
       "      <td>16</td>\n",
       "      <td>13</td>\n",
       "      <td>False</td>\n",
       "      <td>22.285714</td>\n",
       "      <td>16</td>\n",
       "      <td>7</td>\n",
       "      <td>0.953363</td>\n",
       "      <td>121978</td>\n",
       "      <td>0.327731</td>\n",
       "      <td>2</td>\n",
       "      <td>1012</td>\n",
       "    </tr>\n",
       "  </tbody>\n",
       "</table>\n",
       "</div>"
      ],
      "text/plain": [
       "   AverageShortestPathLength  BetweennessCentrality  ClosenessCentrality  \\\n",
       "0                   7.284477               0.003115             0.137278   \n",
       "1                   7.285516               0.001038             0.137259   \n",
       "2                   6.289328               0.005531             0.159000   \n",
       "3                   5.621275               0.007808             0.177896   \n",
       "4                   5.477131               0.000479             0.182577   \n",
       "\n",
       "   ClusteringCoefficient  Degree  Eccentricity  IsSingleNode  \\\n",
       "0               0.214286      24            14         False   \n",
       "1               0.400000      16            14         False   \n",
       "2               0.466667      12            13         False   \n",
       "3               0.181818      30            13         False   \n",
       "4               0.523810      16            13         False   \n",
       "\n",
       "   NeighborhoodConnectivity  NumberOfUndirectedEdges  \\\n",
       "0                  3.000000                       24   \n",
       "1                  4.000000                       16   \n",
       "2                  7.833333                       12   \n",
       "3                  8.750000                       30   \n",
       "4                 22.285714                       16   \n",
       "\n",
       "   PartnerOfMultiEdgedNodePairs  Radiality   Stress  TopologicalCoefficient  \\\n",
       "0                             8   0.934537   421940                0.250000   \n",
       "1                             5   0.934526   210960                0.333333   \n",
       "2                             6   0.944903   773476                0.290123   \n",
       "3                            12   0.951862  1181032                0.128676   \n",
       "4                             7   0.953363   121978                0.327731   \n",
       "\n",
       "   Role  Random  \n",
       "0     1    1065  \n",
       "1     1    1065  \n",
       "2     2    1013  \n",
       "3     1    1035  \n",
       "4     2    1012  "
      ]
     },
     "execution_count": 70,
     "metadata": {},
     "output_type": "execute_result"
    }
   ],
   "source": [
    "bd_filtrado.head()"
   ]
  },
  {
   "cell_type": "code",
   "execution_count": 71,
   "id": "b65c5fbc-4be0-4985-864c-f84170e27d8f",
   "metadata": {},
   "outputs": [],
   "source": [
    "role = [1, 2, 7]"
   ]
  },
  {
   "cell_type": "code",
   "execution_count": 72,
   "id": "fd56b262-0823-4ba4-871a-a386080e7348",
   "metadata": {},
   "outputs": [],
   "source": [
    "vetor = list(range(30))\n",
    "\n",
    "for I in range(30):\n",
    "\n",
    "    rand = []\n",
    "    for v in range(1121):\n",
    "        group = random.choice(role)\n",
    "        rand.append(group)\n",
    "\n",
    "    bd[\"Random\"]=rand\n",
    "\n",
    "    total_iguais = np.sum(bd['Role'] == bd['Random'])\n",
    "    total = len(bd)\n",
    "    acuracia = total_iguais / total\n",
    "    \n",
    "    vetor[I] = acuracia"
   ]
  },
  {
   "cell_type": "code",
   "execution_count": 73,
   "id": "c80bdabe-7374-43e1-a06d-4c5c8f993c86",
   "metadata": {},
   "outputs": [
    {
     "name": "stdout",
     "output_type": "stream",
     "text": [
      "Acuracia: 0.30776092774308655 \n"
     ]
    }
   ],
   "source": [
    "print(f'Acuracia: {acuracia} ')"
   ]
  },
  {
   "cell_type": "code",
   "execution_count": 74,
   "id": "2ae27c1c-ebc3-4849-9f2a-057fe6a74089",
   "metadata": {},
   "outputs": [
    {
     "data": {
      "image/png": "[encoded data removed]",
      "text/plain": [
       "<Figure size 576x432 with 1 Axes>"
      ]
     },
     "metadata": {},
     "output_type": "display_data"
    }
   ],
   "source": [
    "from importlib import reload\n",
    "reload(plt) #recarregando configurações do plt (erro no gráfico)\n",
    "\n",
    "plt.figure(figsize=(8,6))\n",
    "plt.style.use('ggplot')\n",
    "plt.boxplot(vetor)\n",
    "plt.title('Acurácia do algoritmo ALEATORIO (após 30 execuções)');"
   ]
  },
  {
   "cell_type": "code",
   "execution_count": null,
   "id": "a0b03fd1-f3e2-4ad9-b8dd-4c6131dd261d",
   "metadata": {},
   "outputs": [],
   "source": []
  }
 ],
 "metadata": {
  "kernelspec": {
   "display_name": "Python 3 (ipykernel)",
   "language": "python",
   "name": "python3"
  },
  "language_info": {
   "codemirror_mode": {
    "name": "ipython",
    "version": 3
   },
   "file_extension": ".py",
   "mimetype": "text/x-python",
   "name": "python",
   "nbconvert_exporter": "python",
   "pygments_lexer": "ipython3",
   "version": "3.9.12"
  }
 },
 "nbformat": 4,
 "nbformat_minor": 5
}
