{
 "cells": [
  {
   "cell_type": "code",
   "execution_count": 111,
   "id": "a125db68",
   "metadata": {},
   "outputs": [],
   "source": [
    "#importando bibliotecas\n",
    "\n",
    "import numpy as np #trabalhar com numeros\n",
    "import pandas as pd #manipulação de dados\n",
    "\n",
    "#bibliotecas para analises graficas\n",
    "import matplotlib.pyplot as plt\n",
    "import seaborn as sns\n",
    "\n",
    "#bibliotecas para ignorar avisos\n",
    "import warnings\n",
    "\n",
    "#desabilitar avisos\n",
    "warnings.filterwarnings('ignore')\n",
    "\n",
    "#conjunto para teste e treino dos dados\n",
    "from sklearn.model_selection import train_test_split \n",
    "\n",
    "#calcular media e desvio padrão\n",
    "from sklearn.preprocessing import StandardScaler\n",
    "\n",
    "#algoritmo de classificação\n",
    "from sklearn.neighbors import KNeighborsClassifier\n",
    "\n",
    "#metricas para visulizar valores\n",
    "from sklearn import metrics\n",
    "\n",
    "#criaçaõ de matriz do treino, teste\n",
    "from sklearn.metrics import classification_report"
   ]
  },
  {
   "cell_type": "code",
   "execution_count": 112,
   "id": "00eb9b6b",
   "metadata": {},
   "outputs": [
    {
     "data": {
      "text/html": [
       "<div>\n",
       "<style scoped>\n",
       "    .dataframe tbody tr th:only-of-type {\n",
       "        vertical-align: middle;\n",
       "    }\n",
       "\n",
       "    .dataframe tbody tr th {\n",
       "        vertical-align: top;\n",
       "    }\n",
       "\n",
       "    .dataframe thead th {\n",
       "        text-align: right;\n",
       "    }\n",
       "</style>\n",
       "<table border=\"1\" class=\"dataframe\">\n",
       "  <thead>\n",
       "    <tr style=\"text-align: right;\">\n",
       "      <th></th>\n",
       "      <th>AverageShortestPathLength</th>\n",
       "      <th>BetweennessCentrality</th>\n",
       "      <th>ClosenessCentrality</th>\n",
       "      <th>ClusteringCoefficient</th>\n",
       "      <th>Degree</th>\n",
       "      <th>Eccentricity</th>\n",
       "      <th>IsSingleNode</th>\n",
       "      <th>NeighborhoodConnectivity</th>\n",
       "      <th>NumberOfUndirectedEdges</th>\n",
       "      <th>PartnerOfMultiEdgedNodePairs</th>\n",
       "      <th>Radiality</th>\n",
       "      <th>Stress</th>\n",
       "      <th>TopologicalCoefficient</th>\n",
       "      <th>Role</th>\n",
       "    </tr>\n",
       "  </thead>\n",
       "  <tbody>\n",
       "    <tr>\n",
       "      <th>0</th>\n",
       "      <td>7.284477</td>\n",
       "      <td>0.003115</td>\n",
       "      <td>0.137278</td>\n",
       "      <td>0.214286</td>\n",
       "      <td>24</td>\n",
       "      <td>14</td>\n",
       "      <td>False</td>\n",
       "      <td>3.000000</td>\n",
       "      <td>24</td>\n",
       "      <td>8</td>\n",
       "      <td>0.934537</td>\n",
       "      <td>421940</td>\n",
       "      <td>0.250000</td>\n",
       "      <td>1</td>\n",
       "    </tr>\n",
       "    <tr>\n",
       "      <th>1</th>\n",
       "      <td>7.285516</td>\n",
       "      <td>0.001038</td>\n",
       "      <td>0.137259</td>\n",
       "      <td>0.400000</td>\n",
       "      <td>16</td>\n",
       "      <td>14</td>\n",
       "      <td>False</td>\n",
       "      <td>4.000000</td>\n",
       "      <td>16</td>\n",
       "      <td>5</td>\n",
       "      <td>0.934526</td>\n",
       "      <td>210960</td>\n",
       "      <td>0.333333</td>\n",
       "      <td>1</td>\n",
       "    </tr>\n",
       "    <tr>\n",
       "      <th>2</th>\n",
       "      <td>6.289328</td>\n",
       "      <td>0.005531</td>\n",
       "      <td>0.159000</td>\n",
       "      <td>0.466667</td>\n",
       "      <td>12</td>\n",
       "      <td>13</td>\n",
       "      <td>False</td>\n",
       "      <td>7.833333</td>\n",
       "      <td>12</td>\n",
       "      <td>6</td>\n",
       "      <td>0.944903</td>\n",
       "      <td>773476</td>\n",
       "      <td>0.290123</td>\n",
       "      <td>2</td>\n",
       "    </tr>\n",
       "    <tr>\n",
       "      <th>3</th>\n",
       "      <td>5.621275</td>\n",
       "      <td>0.007808</td>\n",
       "      <td>0.177896</td>\n",
       "      <td>0.181818</td>\n",
       "      <td>30</td>\n",
       "      <td>13</td>\n",
       "      <td>False</td>\n",
       "      <td>8.750000</td>\n",
       "      <td>30</td>\n",
       "      <td>12</td>\n",
       "      <td>0.951862</td>\n",
       "      <td>1181032</td>\n",
       "      <td>0.128676</td>\n",
       "      <td>1</td>\n",
       "    </tr>\n",
       "    <tr>\n",
       "      <th>4</th>\n",
       "      <td>5.477131</td>\n",
       "      <td>0.000479</td>\n",
       "      <td>0.182577</td>\n",
       "      <td>0.523810</td>\n",
       "      <td>16</td>\n",
       "      <td>13</td>\n",
       "      <td>False</td>\n",
       "      <td>22.285714</td>\n",
       "      <td>16</td>\n",
       "      <td>7</td>\n",
       "      <td>0.953363</td>\n",
       "      <td>121978</td>\n",
       "      <td>0.327731</td>\n",
       "      <td>2</td>\n",
       "    </tr>\n",
       "  </tbody>\n",
       "</table>\n",
       "</div>"
      ],
      "text/plain": [
       "   AverageShortestPathLength  BetweennessCentrality  ClosenessCentrality  \\\n",
       "0                   7.284477               0.003115             0.137278   \n",
       "1                   7.285516               0.001038             0.137259   \n",
       "2                   6.289328               0.005531             0.159000   \n",
       "3                   5.621275               0.007808             0.177896   \n",
       "4                   5.477131               0.000479             0.182577   \n",
       "\n",
       "   ClusteringCoefficient  Degree  Eccentricity  IsSingleNode  \\\n",
       "0               0.214286      24            14         False   \n",
       "1               0.400000      16            14         False   \n",
       "2               0.466667      12            13         False   \n",
       "3               0.181818      30            13         False   \n",
       "4               0.523810      16            13         False   \n",
       "\n",
       "   NeighborhoodConnectivity  NumberOfUndirectedEdges  \\\n",
       "0                  3.000000                       24   \n",
       "1                  4.000000                       16   \n",
       "2                  7.833333                       12   \n",
       "3                  8.750000                       30   \n",
       "4                 22.285714                       16   \n",
       "\n",
       "   PartnerOfMultiEdgedNodePairs  Radiality   Stress  TopologicalCoefficient  \\\n",
       "0                             8   0.934537   421940                0.250000   \n",
       "1                             5   0.934526   210960                0.333333   \n",
       "2                             6   0.944903   773476                0.290123   \n",
       "3                            12   0.951862  1181032                0.128676   \n",
       "4                             7   0.953363   121978                0.327731   \n",
       "\n",
       "   Role  \n",
       "0     1  \n",
       "1     1  \n",
       "2     2  \n",
       "3     1  \n",
       "4     2  "
      ]
     },
     "execution_count": 112,
     "metadata": {},
     "output_type": "execute_result"
    }
   ],
   "source": [
    "#lendo os dados\n",
    "bd = pd.read_csv('sic-rotulado.csv')\n",
    "\n",
    "#verificando as 5 primeiras linhas\n",
    "bd.head()"
   ]
  },
  {
   "cell_type": "code",
   "execution_count": 113,
   "id": "5f09f7a0",
   "metadata": {},
   "outputs": [
    {
     "data": {
      "text/plain": [
       "(1121, 14)"
      ]
     },
     "execution_count": 113,
     "metadata": {},
     "output_type": "execute_result"
    }
   ],
   "source": [
    "bd.shape"
   ]
  },
  {
   "cell_type": "code",
   "execution_count": 114,
   "id": "c348d129-15b7-428f-b758-89d15375a653",
   "metadata": {},
   "outputs": [
    {
     "data": {
      "text/html": [
       "<div>\n",
       "<style scoped>\n",
       "    .dataframe tbody tr th:only-of-type {\n",
       "        vertical-align: middle;\n",
       "    }\n",
       "\n",
       "    .dataframe tbody tr th {\n",
       "        vertical-align: top;\n",
       "    }\n",
       "\n",
       "    .dataframe thead th {\n",
       "        text-align: right;\n",
       "    }\n",
       "</style>\n",
       "<table border=\"1\" class=\"dataframe\">\n",
       "  <thead>\n",
       "    <tr style=\"text-align: right;\">\n",
       "      <th></th>\n",
       "      <th>AverageShortestPathLength</th>\n",
       "      <th>BetweennessCentrality</th>\n",
       "      <th>ClosenessCentrality</th>\n",
       "      <th>ClusteringCoefficient</th>\n",
       "      <th>Degree</th>\n",
       "      <th>Eccentricity</th>\n",
       "      <th>NeighborhoodConnectivity</th>\n",
       "      <th>NumberOfUndirectedEdges</th>\n",
       "      <th>PartnerOfMultiEdgedNodePairs</th>\n",
       "      <th>Radiality</th>\n",
       "      <th>Stress</th>\n",
       "      <th>TopologicalCoefficient</th>\n",
       "      <th>Role</th>\n",
       "    </tr>\n",
       "  </thead>\n",
       "  <tbody>\n",
       "    <tr>\n",
       "      <th>count</th>\n",
       "      <td>1121.000000</td>\n",
       "      <td>1121.000000</td>\n",
       "      <td>1121.000000</td>\n",
       "      <td>1121.000000</td>\n",
       "      <td>1121.000000</td>\n",
       "      <td>1121.000000</td>\n",
       "      <td>1121.000000</td>\n",
       "      <td>1121.000000</td>\n",
       "      <td>1121.000000</td>\n",
       "      <td>1121.000000</td>\n",
       "      <td>1.121000e+03</td>\n",
       "      <td>1121.000000</td>\n",
       "      <td>1121.000000</td>\n",
       "    </tr>\n",
       "    <tr>\n",
       "      <th>mean</th>\n",
       "      <td>5.742081</td>\n",
       "      <td>0.015813</td>\n",
       "      <td>0.409955</td>\n",
       "      <td>0.900174</td>\n",
       "      <td>37.805531</td>\n",
       "      <td>11.937556</td>\n",
       "      <td>384.292295</td>\n",
       "      <td>37.805531</td>\n",
       "      <td>11.147190</td>\n",
       "      <td>2.504796</td>\n",
       "      <td>7.734366e+05</td>\n",
       "      <td>6.189293</td>\n",
       "      <td>39.148974</td>\n",
       "    </tr>\n",
       "    <tr>\n",
       "      <th>std</th>\n",
       "      <td>2.052301</td>\n",
       "      <td>0.091338</td>\n",
       "      <td>5.523162</td>\n",
       "      <td>9.695022</td>\n",
       "      <td>56.503616</td>\n",
       "      <td>4.107227</td>\n",
       "      <td>2544.078083</td>\n",
       "      <td>56.503616</td>\n",
       "      <td>12.032572</td>\n",
       "      <td>36.902597</td>\n",
       "      <td>2.139910e+06</td>\n",
       "      <td>55.728713</td>\n",
       "      <td>191.628967</td>\n",
       "    </tr>\n",
       "    <tr>\n",
       "      <th>min</th>\n",
       "      <td>1.000000</td>\n",
       "      <td>0.000000</td>\n",
       "      <td>0.079528</td>\n",
       "      <td>0.000000</td>\n",
       "      <td>2.000000</td>\n",
       "      <td>1.000000</td>\n",
       "      <td>1.000000</td>\n",
       "      <td>2.000000</td>\n",
       "      <td>1.000000</td>\n",
       "      <td>0.733333</td>\n",
       "      <td>0.000000e+00</td>\n",
       "      <td>0.000000</td>\n",
       "      <td>1.000000</td>\n",
       "    </tr>\n",
       "    <tr>\n",
       "      <th>25%</th>\n",
       "      <td>5.221414</td>\n",
       "      <td>0.000000</td>\n",
       "      <td>0.149557</td>\n",
       "      <td>0.304762</td>\n",
       "      <td>8.000000</td>\n",
       "      <td>12.000000</td>\n",
       "      <td>7.000000</td>\n",
       "      <td>8.000000</td>\n",
       "      <td>4.000000</td>\n",
       "      <td>0.939269</td>\n",
       "      <td>0.000000e+00</td>\n",
       "      <td>0.142450</td>\n",
       "      <td>1.000000</td>\n",
       "    </tr>\n",
       "    <tr>\n",
       "      <th>50%</th>\n",
       "      <td>5.817048</td>\n",
       "      <td>0.000082</td>\n",
       "      <td>0.171909</td>\n",
       "      <td>0.593407</td>\n",
       "      <td>18.000000</td>\n",
       "      <td>13.000000</td>\n",
       "      <td>13.909091</td>\n",
       "      <td>18.000000</td>\n",
       "      <td>7.000000</td>\n",
       "      <td>0.948628</td>\n",
       "      <td>3.974000e+03</td>\n",
       "      <td>0.258427</td>\n",
       "      <td>2.000000</td>\n",
       "    </tr>\n",
       "    <tr>\n",
       "      <th>75%</th>\n",
       "      <td>6.686417</td>\n",
       "      <td>0.002769</td>\n",
       "      <td>0.191583</td>\n",
       "      <td>1.000000</td>\n",
       "      <td>40.000000</td>\n",
       "      <td>14.000000</td>\n",
       "      <td>21.428571</td>\n",
       "      <td>40.000000</td>\n",
       "      <td>14.000000</td>\n",
       "      <td>0.955078</td>\n",
       "      <td>4.425240e+05</td>\n",
       "      <td>0.404762</td>\n",
       "      <td>2.000000</td>\n",
       "    </tr>\n",
       "    <tr>\n",
       "      <th>max</th>\n",
       "      <td>12.574151</td>\n",
       "      <td>1.000000</td>\n",
       "      <td>185.000000</td>\n",
       "      <td>325.000000</td>\n",
       "      <td>446.000000</td>\n",
       "      <td>20.000000</td>\n",
       "      <td>33125.000000</td>\n",
       "      <td>446.000000</td>\n",
       "      <td>96.000000</td>\n",
       "      <td>875.000000</td>\n",
       "      <td>2.519194e+07</td>\n",
       "      <td>725.000000</td>\n",
       "      <td>1065.000000</td>\n",
       "    </tr>\n",
       "  </tbody>\n",
       "</table>\n",
       "</div>"
      ],
      "text/plain": [
       "       AverageShortestPathLength  BetweennessCentrality  ClosenessCentrality  \\\n",
       "count                1121.000000            1121.000000          1121.000000   \n",
       "mean                    5.742081               0.015813             0.409955   \n",
       "std                     2.052301               0.091338             5.523162   \n",
       "min                     1.000000               0.000000             0.079528   \n",
       "25%                     5.221414               0.000000             0.149557   \n",
       "50%                     5.817048               0.000082             0.171909   \n",
       "75%                     6.686417               0.002769             0.191583   \n",
       "max                    12.574151               1.000000           185.000000   \n",
       "\n",
       "       ClusteringCoefficient       Degree  Eccentricity  \\\n",
       "count            1121.000000  1121.000000   1121.000000   \n",
       "mean                0.900174    37.805531     11.937556   \n",
       "std                 9.695022    56.503616      4.107227   \n",
       "min                 0.000000     2.000000      1.000000   \n",
       "25%                 0.304762     8.000000     12.000000   \n",
       "50%                 0.593407    18.000000     13.000000   \n",
       "75%                 1.000000    40.000000     14.000000   \n",
       "max               325.000000   446.000000     20.000000   \n",
       "\n",
       "       NeighborhoodConnectivity  NumberOfUndirectedEdges  \\\n",
       "count               1121.000000              1121.000000   \n",
       "mean                 384.292295                37.805531   \n",
       "std                 2544.078083                56.503616   \n",
       "min                    1.000000                 2.000000   \n",
       "25%                    7.000000                 8.000000   \n",
       "50%                   13.909091                18.000000   \n",
       "75%                   21.428571                40.000000   \n",
       "max                33125.000000               446.000000   \n",
       "\n",
       "       PartnerOfMultiEdgedNodePairs    Radiality        Stress  \\\n",
       "count                   1121.000000  1121.000000  1.121000e+03   \n",
       "mean                      11.147190     2.504796  7.734366e+05   \n",
       "std                       12.032572    36.902597  2.139910e+06   \n",
       "min                        1.000000     0.733333  0.000000e+00   \n",
       "25%                        4.000000     0.939269  0.000000e+00   \n",
       "50%                        7.000000     0.948628  3.974000e+03   \n",
       "75%                       14.000000     0.955078  4.425240e+05   \n",
       "max                       96.000000   875.000000  2.519194e+07   \n",
       "\n",
       "       TopologicalCoefficient         Role  \n",
       "count             1121.000000  1121.000000  \n",
       "mean                 6.189293    39.148974  \n",
       "std                 55.728713   191.628967  \n",
       "min                  0.000000     1.000000  \n",
       "25%                  0.142450     1.000000  \n",
       "50%                  0.258427     2.000000  \n",
       "75%                  0.404762     2.000000  \n",
       "max                725.000000  1065.000000  "
      ]
     },
     "execution_count": 114,
     "metadata": {},
     "output_type": "execute_result"
    }
   ],
   "source": [
    "bd.describe()"
   ]
  },
  {
   "cell_type": "code",
   "execution_count": 115,
   "id": "b9072c30",
   "metadata": {},
   "outputs": [
    {
     "data": {
      "text/plain": [
       "<AxesSubplot:>"
      ]
     },
     "execution_count": 115,
     "metadata": {},
     "output_type": "execute_result"
    },
    {
     "data": {
      "image/png": "[encoded data removed]",
      "text/plain": [
       "<Figure size 864x432 with 2 Axes>"
      ]
     },
     "metadata": {},
     "output_type": "display_data"
    }
   ],
   "source": [
    "correlation = bd.corr()\n",
    "plt.figure(figsize=(12,6))\n",
    "plot = sns.heatmap(correlation, annot = True, fmt=\".1f\", linewidths=.6)\n",
    "plot"
   ]
  },
  {
   "cell_type": "code",
   "execution_count": 116,
   "id": "8a375e93",
   "metadata": {},
   "outputs": [],
   "source": [
    "#X recebe todos os dados\n",
    "X = bd.iloc[:,:-1].values\n",
    "\n",
    "#y recebe apenas a coluna role\n",
    "y = bd.iloc[:,13].values"
   ]
  },
  {
   "cell_type": "code",
   "execution_count": 117,
   "id": "ccd4dfcc-cfb8-4567-bf1c-815cbbca6e0d",
   "metadata": {},
   "outputs": [
    {
     "data": {
      "text/plain": [
       "array([[7.284476784476785, 0.0031153804117408, 0.1372782190933739, ...,\n",
       "        0.9345367001617002, 421940, 0.25],\n",
       "       [7.285516285516286, 0.0010376994779074, 0.1372586321696946, ...,\n",
       "        0.934525872025872, 210960, 0.3333333333333333],\n",
       "       [6.289327789327789, 0.0055305538841067, 0.1589995041595504, ...,\n",
       "        0.9449028355278356, 773476, 0.2901234567901234],\n",
       "       ...,\n",
       "       [5.802841302841303, 0.0, 0.1723293724249119, ...,\n",
       "        0.9499704030954031, 0, 0.3703703703703703],\n",
       "       [10.327789327789327, 0.0, 0.0968261423874387, ...,\n",
       "        0.9028355278355278, 0, 0.6666666666666666],\n",
       "       [10.327789327789327, 0.0, 0.0968261423874387, ...,\n",
       "        0.9028355278355278, 0, 0.6666666666666666]], dtype=object)"
      ]
     },
     "execution_count": 117,
     "metadata": {},
     "output_type": "execute_result"
    }
   ],
   "source": [
    "X"
   ]
  },
  {
   "cell_type": "code",
   "execution_count": 118,
   "id": "c7f3e37e-be8d-48a2-8364-a7c63c86c83f",
   "metadata": {},
   "outputs": [
    {
     "data": {
      "text/plain": [
       "array([1, 1, 2, ..., 2, 2, 2], dtype=int64)"
      ]
     },
     "execution_count": 118,
     "metadata": {},
     "output_type": "execute_result"
    }
   ],
   "source": [
    "y"
   ]
  },
  {
   "cell_type": "code",
   "execution_count": 119,
   "id": "3bcb30ab-f3c1-4e5a-a952-68fd1f44eab1",
   "metadata": {},
   "outputs": [],
   "source": [
    "vetor = list(range(30))\n",
    "\n",
    "for v in range(30):\n",
    "\n",
    "  X_train, X_test, y_train, y_test = train_test_split(X, y, test_size=0.40) \n",
    "\n",
    "\n",
    "  scaler = StandardScaler()\n",
    "  scaler.fit(X_train)\n",
    "\n",
    "  X_train = scaler.transform(X_train)\n",
    "  X_test = scaler.transform(X_test)\n",
    "\n",
    "\n",
    "  classifier = KNeighborsClassifier(n_neighbors=5)\n",
    "  classifier.fit(X_train, y_train)\n",
    "\n",
    "\n",
    "  y_pred = classifier.predict(X_test)\n",
    "\n",
    "  #vetor recebe e armazena cada valor de acuracia durante a execução  \n",
    "  vetor[v] = metrics.accuracy_score(y_test, y_pred)"
   ]
  },
  {
   "cell_type": "code",
   "execution_count": 120,
   "id": "cdba4e36-99ba-422a-882d-02a4595e48be",
   "metadata": {},
   "outputs": [
    {
     "name": "stdout",
     "output_type": "stream",
     "text": [
      "              precision    recall  f1-score   support\n",
      "\n",
      "           1       0.63      0.66      0.64       202\n",
      "           2       0.64      0.71      0.67       209\n",
      "           7       0.00      0.00      0.00        23\n",
      "        1002       0.00      0.00      0.00         2\n",
      "        1009       0.00      0.00      0.00         2\n",
      "        1010       0.00      0.00      0.00         5\n",
      "        1011       0.00      0.00      0.00         1\n",
      "        1035       0.00      0.00      0.00         1\n",
      "        1041       0.00      0.00      0.00         1\n",
      "        1045       0.00      0.00      0.00         2\n",
      "        1052       0.00      0.00      0.00         1\n",
      "\n",
      "    accuracy                           0.63       449\n",
      "   macro avg       0.12      0.12      0.12       449\n",
      "weighted avg       0.58      0.63      0.60       449\n",
      "\n"
     ]
    }
   ],
   "source": [
    "#print(confusion_matrix(y_test, y_pred))\n",
    "print(classification_report(y_test, y_pred))"
   ]
  },
  {
   "cell_type": "code",
   "execution_count": 121,
   "id": "988851f4-3303-4c9f-a7ca-2458fea6c269",
   "metadata": {},
   "outputs": [
    {
     "name": "stdout",
     "output_type": "stream",
     "text": [
      "Accuracy: 0.6258351893095768\n"
     ]
    }
   ],
   "source": [
    "print(\"Accuracy:\",metrics.accuracy_score(y_test, y_pred))"
   ]
  },
  {
   "cell_type": "code",
   "execution_count": 122,
   "id": "8c2c0b2e-8024-4e4b-8b40-9e15bd693eb3",
   "metadata": {},
   "outputs": [
    {
     "data": {
      "image/png": "[encoded data removed]",
      "text/plain": [
       "<Figure size 576x432 with 1 Axes>"
      ]
     },
     "metadata": {},
     "output_type": "display_data"
    }
   ],
   "source": [
    "from importlib import reload\n",
    "reload(plt) #recarregando configurações do plt (erro no gráfico)\n",
    "\n",
    "plt.figure(figsize=(8,6))\n",
    "plt.style.use('ggplot')\n",
    "plt.boxplot(vetor)\n",
    "plt.title('Acurácia do KNN (após 30 execuções)');"
   ]
  },
  {
   "cell_type": "code",
   "execution_count": 123,
   "id": "b2e6bdab-b955-4575-a60c-a13c7a0e6833",
   "metadata": {},
   "outputs": [],
   "source": [
    "#acuracia média em 61%, mediana, e pode ser melhorada, minha hipotese é diminuir a quantidade de dados\n",
    "#ultilizados removendo valores que podem causar vies na analise "
   ]
  },
  {
   "cell_type": "code",
   "execution_count": 124,
   "id": "127d8325-4eb1-4cb2-afde-fd6f1c2f4a42",
   "metadata": {},
   "outputs": [
    {
     "data": {
      "text/plain": [
       "{1: 492,\n",
       " 2: 526,\n",
       " 7: 58,\n",
       " 8: 3,\n",
       " 9: 1,\n",
       " 1002: 5,\n",
       " 1004: 1,\n",
       " 1006: 1,\n",
       " 1009: 3,\n",
       " 1010: 11,\n",
       " 1011: 2,\n",
       " 1012: 1,\n",
       " 1013: 1,\n",
       " 1015: 1,\n",
       " 1033: 1,\n",
       " 1035: 2,\n",
       " 1041: 4,\n",
       " 1042: 1,\n",
       " 1045: 2,\n",
       " 1052: 2,\n",
       " 1056: 1,\n",
       " 1060: 1,\n",
       " 1065: 1}"
      ]
     },
     "execution_count": 124,
     "metadata": {},
     "output_type": "execute_result"
    }
   ],
   "source": [
    "#conta ocorrências da coluna Role por atributo\n",
    "unique, counts = np.unique(y, return_counts=True)\n",
    "dict(zip(unique, counts))"
   ]
  },
  {
   "cell_type": "code",
   "execution_count": 125,
   "id": "deaac5aa-9b38-48df-8818-c7e45314500f",
   "metadata": {},
   "outputs": [
    {
     "data": {
      "text/plain": [
       "array([   1,    2,    7,    8,    9, 1002, 1004, 1006, 1009, 1010, 1011,\n",
       "       1012, 1013, 1015, 1033, 1035, 1041, 1042, 1045, 1052, 1056, 1060,\n",
       "       1065], dtype=int64)"
      ]
     },
     "execution_count": 125,
     "metadata": {},
     "output_type": "execute_result"
    }
   ],
   "source": [
    "unique"
   ]
  },
  {
   "cell_type": "code",
   "execution_count": 126,
   "id": "9048a04a-0677-4993-bd3c-0d1f3724c08d",
   "metadata": {},
   "outputs": [
    {
     "data": {
      "text/plain": [
       "array([492, 526,  58,   3,   1,   5,   1,   1,   3,  11,   2,   1,   1,\n",
       "         1,   1,   2,   4,   1,   2,   2,   1,   1,   1], dtype=int64)"
      ]
     },
     "execution_count": 126,
     "metadata": {},
     "output_type": "execute_result"
    }
   ],
   "source": [
    "counts"
   ]
  },
  {
   "cell_type": "code",
   "execution_count": 127,
   "id": "e651e65f-adcb-4f6e-a79c-e00110596d69",
   "metadata": {},
   "outputs": [
    {
     "data": {
      "text/plain": [
       "numpy.ndarray"
      ]
     },
     "execution_count": 127,
     "metadata": {},
     "output_type": "execute_result"
    }
   ],
   "source": [
    "type(unique)"
   ]
  },
  {
   "cell_type": "code",
   "execution_count": 128,
   "id": "8708ae4c-9e76-4500-80f6-737d5814a895",
   "metadata": {},
   "outputs": [
    {
     "data": {
      "text/plain": [
       "numpy.ndarray"
      ]
     },
     "execution_count": 128,
     "metadata": {},
     "output_type": "execute_result"
    }
   ],
   "source": [
    "type(counts)"
   ]
  },
  {
   "cell_type": "code",
   "execution_count": 129,
   "id": "bfb29776-4693-41e3-8c77-174d61b35313",
   "metadata": {},
   "outputs": [
    {
     "data": {
      "text/plain": [
       "list"
      ]
     },
     "execution_count": 129,
     "metadata": {},
     "output_type": "execute_result"
    }
   ],
   "source": [
    "unique_list = unique.tolist()\n",
    "counts_list = counts.tolist()\n",
    "type(counts_list)"
   ]
  },
  {
   "cell_type": "code",
   "execution_count": 130,
   "id": "dcb0ec38-a755-4a6c-accb-31d01bd4a607",
   "metadata": {},
   "outputs": [],
   "source": [
    "unique_df = pd.DataFrame(unique) \n",
    "counts_df = pd.DataFrame(counts)"
   ]
  },
  {
   "cell_type": "code",
   "execution_count": 131,
   "id": "26f6fefb-e8e2-4091-aaef-8aa8c6bb3fdb",
   "metadata": {},
   "outputs": [
    {
     "data": {
      "image/png": "[encoded data removed]",
      "text/plain": [
       "<Figure size 720x432 with 1 Axes>"
      ]
     },
     "metadata": {},
     "output_type": "display_data"
    }
   ],
   "source": [
    "label = unique_df[0].head(3).value_counts().index \n",
    "fig1, ax1 = plt.subplots(figsize=(10, 6), subplot_kw=dict(aspect=\"equal\")) \n",
    "color = sns.color_palette('Dark2', 5) \n",
    "ax1.pie(counts_df[0].head(3), explode=(0.05, 0.05, 0.05), pctdistance=1.2,autopct='%1.1f%%', colors=color, shadow=True, startangle=250) \n",
    "ax1.axis('equal') \n",
    "ax1.set_title(\"3 maiores frequências de ocorrência de RÓTULOS (ROLE)\", fontsize=15) \n",
    "plt.legend(title = \"Rótulos\", labels=label, loc='upper center', bbox_to_anchor=(0.5, -0.04), ncol=5) \n",
    "plt.show() #gráfico de porcentagem"
   ]
  },
  {
   "cell_type": "code",
   "execution_count": 132,
   "id": "a251f620-ebfb-440d-a8da-3ab83fd81afb",
   "metadata": {},
   "outputs": [
    {
     "data": {
      "image/png": "[encoded data removed]",
      "text/plain": [
       "<Figure size 1008x288 with 1 Axes>"
      ]
     },
     "metadata": {},
     "output_type": "display_data"
    }
   ],
   "source": [
    "plt.figure(figsize=(14,4))\n",
    "\n",
    "ax = sns.barplot(x=unique_df[0].tail(20), y=counts_df[0].tail(20))\n",
    "\n",
    "plt.show()"
   ]
  },
  {
   "cell_type": "code",
   "execution_count": 133,
   "id": "47e2ffaa-87ed-4eca-ba4f-e6ffe9246f5a",
   "metadata": {},
   "outputs": [],
   "source": [
    "#crio um novo Banco De Dados, neste seleciono os dados que somente apresentam na coluna ROLE os valores 1,2,7\n",
    "#por serem os que mais se repetem\n",
    "bd_mascara = bd['Role'].isin([1,2,7]) \n",
    "bd_filtrado = bd[bd_mascara]"
   ]
  },
  {
   "cell_type": "code",
   "execution_count": 134,
   "id": "d725aac8-2637-4a95-8fc5-01d056b662fc",
   "metadata": {},
   "outputs": [
    {
     "data": {
      "text/html": [
       "<div>\n",
       "<style scoped>\n",
       "    .dataframe tbody tr th:only-of-type {\n",
       "        vertical-align: middle;\n",
       "    }\n",
       "\n",
       "    .dataframe tbody tr th {\n",
       "        vertical-align: top;\n",
       "    }\n",
       "\n",
       "    .dataframe thead th {\n",
       "        text-align: right;\n",
       "    }\n",
       "</style>\n",
       "<table border=\"1\" class=\"dataframe\">\n",
       "  <thead>\n",
       "    <tr style=\"text-align: right;\">\n",
       "      <th></th>\n",
       "      <th>AverageShortestPathLength</th>\n",
       "      <th>BetweennessCentrality</th>\n",
       "      <th>ClosenessCentrality</th>\n",
       "      <th>ClusteringCoefficient</th>\n",
       "      <th>Degree</th>\n",
       "      <th>Eccentricity</th>\n",
       "      <th>IsSingleNode</th>\n",
       "      <th>NeighborhoodConnectivity</th>\n",
       "      <th>NumberOfUndirectedEdges</th>\n",
       "      <th>PartnerOfMultiEdgedNodePairs</th>\n",
       "      <th>Radiality</th>\n",
       "      <th>Stress</th>\n",
       "      <th>TopologicalCoefficient</th>\n",
       "      <th>Role</th>\n",
       "    </tr>\n",
       "  </thead>\n",
       "  <tbody>\n",
       "    <tr>\n",
       "      <th>0</th>\n",
       "      <td>7.284477</td>\n",
       "      <td>0.003115</td>\n",
       "      <td>0.137278</td>\n",
       "      <td>0.214286</td>\n",
       "      <td>24</td>\n",
       "      <td>14</td>\n",
       "      <td>False</td>\n",
       "      <td>3.000000</td>\n",
       "      <td>24</td>\n",
       "      <td>8</td>\n",
       "      <td>0.934537</td>\n",
       "      <td>421940</td>\n",
       "      <td>0.250000</td>\n",
       "      <td>1</td>\n",
       "    </tr>\n",
       "    <tr>\n",
       "      <th>1</th>\n",
       "      <td>7.285516</td>\n",
       "      <td>0.001038</td>\n",
       "      <td>0.137259</td>\n",
       "      <td>0.400000</td>\n",
       "      <td>16</td>\n",
       "      <td>14</td>\n",
       "      <td>False</td>\n",
       "      <td>4.000000</td>\n",
       "      <td>16</td>\n",
       "      <td>5</td>\n",
       "      <td>0.934526</td>\n",
       "      <td>210960</td>\n",
       "      <td>0.333333</td>\n",
       "      <td>1</td>\n",
       "    </tr>\n",
       "    <tr>\n",
       "      <th>2</th>\n",
       "      <td>6.289328</td>\n",
       "      <td>0.005531</td>\n",
       "      <td>0.159000</td>\n",
       "      <td>0.466667</td>\n",
       "      <td>12</td>\n",
       "      <td>13</td>\n",
       "      <td>False</td>\n",
       "      <td>7.833333</td>\n",
       "      <td>12</td>\n",
       "      <td>6</td>\n",
       "      <td>0.944903</td>\n",
       "      <td>773476</td>\n",
       "      <td>0.290123</td>\n",
       "      <td>2</td>\n",
       "    </tr>\n",
       "    <tr>\n",
       "      <th>3</th>\n",
       "      <td>5.621275</td>\n",
       "      <td>0.007808</td>\n",
       "      <td>0.177896</td>\n",
       "      <td>0.181818</td>\n",
       "      <td>30</td>\n",
       "      <td>13</td>\n",
       "      <td>False</td>\n",
       "      <td>8.750000</td>\n",
       "      <td>30</td>\n",
       "      <td>12</td>\n",
       "      <td>0.951862</td>\n",
       "      <td>1181032</td>\n",
       "      <td>0.128676</td>\n",
       "      <td>1</td>\n",
       "    </tr>\n",
       "    <tr>\n",
       "      <th>4</th>\n",
       "      <td>5.477131</td>\n",
       "      <td>0.000479</td>\n",
       "      <td>0.182577</td>\n",
       "      <td>0.523810</td>\n",
       "      <td>16</td>\n",
       "      <td>13</td>\n",
       "      <td>False</td>\n",
       "      <td>22.285714</td>\n",
       "      <td>16</td>\n",
       "      <td>7</td>\n",
       "      <td>0.953363</td>\n",
       "      <td>121978</td>\n",
       "      <td>0.327731</td>\n",
       "      <td>2</td>\n",
       "    </tr>\n",
       "  </tbody>\n",
       "</table>\n",
       "</div>"
      ],
      "text/plain": [
       "   AverageShortestPathLength  BetweennessCentrality  ClosenessCentrality  \\\n",
       "0                   7.284477               0.003115             0.137278   \n",
       "1                   7.285516               0.001038             0.137259   \n",
       "2                   6.289328               0.005531             0.159000   \n",
       "3                   5.621275               0.007808             0.177896   \n",
       "4                   5.477131               0.000479             0.182577   \n",
       "\n",
       "   ClusteringCoefficient  Degree  Eccentricity  IsSingleNode  \\\n",
       "0               0.214286      24            14         False   \n",
       "1               0.400000      16            14         False   \n",
       "2               0.466667      12            13         False   \n",
       "3               0.181818      30            13         False   \n",
       "4               0.523810      16            13         False   \n",
       "\n",
       "   NeighborhoodConnectivity  NumberOfUndirectedEdges  \\\n",
       "0                  3.000000                       24   \n",
       "1                  4.000000                       16   \n",
       "2                  7.833333                       12   \n",
       "3                  8.750000                       30   \n",
       "4                 22.285714                       16   \n",
       "\n",
       "   PartnerOfMultiEdgedNodePairs  Radiality   Stress  TopologicalCoefficient  \\\n",
       "0                             8   0.934537   421940                0.250000   \n",
       "1                             5   0.934526   210960                0.333333   \n",
       "2                             6   0.944903   773476                0.290123   \n",
       "3                            12   0.951862  1181032                0.128676   \n",
       "4                             7   0.953363   121978                0.327731   \n",
       "\n",
       "   Role  \n",
       "0     1  \n",
       "1     1  \n",
       "2     2  \n",
       "3     1  \n",
       "4     2  "
      ]
     },
     "execution_count": 134,
     "metadata": {},
     "output_type": "execute_result"
    }
   ],
   "source": [
    "bd_filtrado.head()"
   ]
  },
  {
   "cell_type": "code",
   "execution_count": 135,
   "id": "167a27b3-0868-4525-9ac2-eb216804b1a1",
   "metadata": {},
   "outputs": [],
   "source": [
    "#separar meu índice do meu conjunto de teste\n",
    "X = bd_filtrado.iloc[:,:-1].values\n",
    "y = bd_filtrado.iloc[:,-1].values"
   ]
  },
  {
   "cell_type": "code",
   "execution_count": 136,
   "id": "5f0c712e-961e-40a8-8133-5fd80e95a65f",
   "metadata": {},
   "outputs": [],
   "source": [
    "vetor = list(range(30))\n",
    "\n",
    "for v in range(30):\n",
    "\n",
    "  X_train, X_test, y_train, y_test = train_test_split(X, y, test_size=0.40) \n",
    "\n",
    "\n",
    "  scaler = StandardScaler()\n",
    "  scaler.fit(X_train)\n",
    "\n",
    "  X_train = scaler.transform(X_train)\n",
    "  X_test = scaler.transform(X_test)\n",
    "\n",
    "\n",
    "  classifier = KNeighborsClassifier(n_neighbors=5)\n",
    "  classifier.fit(X_train, y_train)\n",
    "\n",
    "\n",
    "  y_pred = classifier.predict(X_test)\n",
    "\n",
    "\n",
    "  vetor[v] = metrics.accuracy_score(y_test, y_pred)"
   ]
  },
  {
   "cell_type": "code",
   "execution_count": 137,
   "id": "546e6d2b-7b82-4750-871c-1ccfb30ed7b4",
   "metadata": {},
   "outputs": [
    {
     "name": "stdout",
     "output_type": "stream",
     "text": [
      "              precision    recall  f1-score   support\n",
      "\n",
      "           1       0.66      0.62      0.64       200\n",
      "           2       0.62      0.73      0.67       203\n",
      "           7       0.00      0.00      0.00        28\n",
      "\n",
      "    accuracy                           0.63       431\n",
      "   macro avg       0.42      0.45      0.44       431\n",
      "weighted avg       0.60      0.63      0.61       431\n",
      "\n"
     ]
    }
   ],
   "source": [
    "#print(confusion_matrix(y_test, y_pred))\n",
    "print(classification_report(y_test, y_pred))"
   ]
  },
  {
   "cell_type": "code",
   "execution_count": 138,
   "id": "b180b06c-15e2-48f8-a631-5d2e48eaa853",
   "metadata": {},
   "outputs": [
    {
     "name": "stdout",
     "output_type": "stream",
     "text": [
      "Accuracy: 0.6334106728538283\n"
     ]
    }
   ],
   "source": [
    "print(\"Accuracy:\",metrics.accuracy_score(y_test, y_pred))"
   ]
  },
  {
   "cell_type": "code",
   "execution_count": 139,
   "id": "cd29b22d-c766-4bc1-986c-c8ecd9e94413",
   "metadata": {},
   "outputs": [
    {
     "data": {
      "image/png": "[encoded data removed]",
      "text/plain": [
       "<Figure size 576x432 with 1 Axes>"
      ]
     },
     "metadata": {},
     "output_type": "display_data"
    }
   ],
   "source": [
    "from importlib import reload\n",
    "reload(plt) #recarregando configurações do plt (erro no gráfico)\n",
    "\n",
    "plt.figure(figsize=(8,6))\n",
    "plt.style.use('ggplot')\n",
    "plt.boxplot(vetor)\n",
    "plt.title('Acurácia do KNN (após 30 execuções)');"
   ]
  },
  {
   "cell_type": "code",
   "execution_count": null,
   "id": "66ddff5c-00e6-4bf9-9b05-3a5d88cd4fe2",
   "metadata": {},
   "outputs": [],
   "source": []
  }
 ],
 "metadata": {
  "kernelspec": {
   "display_name": "Python 3 (ipykernel)",
   "language": "python",
   "name": "python3"
  },
  "language_info": {
   "codemirror_mode": {
    "name": "ipython",
    "version": 3
   },
   "file_extension": ".py",
   "mimetype": "text/x-python",
   "name": "python",
   "nbconvert_exporter": "python",
   "pygments_lexer": "ipython3",
   "version": "3.9.12"
  }
 },
 "nbformat": 4,
 "nbformat_minor": 5
}
