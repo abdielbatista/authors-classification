{
 "cells": [
  {
   "cell_type": "code",
   "execution_count": 72,
   "id": "ef9c33aa-fbbc-4db6-8ed9-56357e6c806c",
   "metadata": {},
   "outputs": [],
   "source": [
    "# importando numpy \n",
    "import numpy as np # inicialize a semente para 25\n",
    "\n",
    "\n",
    "import random"
   ]
  },
  {
   "cell_type": "code",
   "execution_count": 73,
   "id": "c0f90520-8428-4215-a42c-6fa4aa6ee277",
   "metadata": {},
   "outputs": [],
   "source": [
    "#importando bibliotecas\n",
    "\n",
    "import numpy as np #trabalhar com numeros\n",
    "import pandas as pd #manipulação de dados\n",
    "\n",
    "import random #necessário para ultilizar o módulo\n",
    "from random import randint\n",
    "import seaborn as sns\n",
    "\n",
    "\n",
    "import matplotlib.pyplot as plt"
   ]
  },
  {
   "cell_type": "code",
   "execution_count": 74,
   "id": "5197872d-e7b3-4501-b4c6-060a9a8c9313",
   "metadata": {},
   "outputs": [
    {
     "data": {
      "text/html": [
       "<div>\n",
       "<style scoped>\n",
       "    .dataframe tbody tr th:only-of-type {\n",
       "        vertical-align: middle;\n",
       "    }\n",
       "\n",
       "    .dataframe tbody tr th {\n",
       "        vertical-align: top;\n",
       "    }\n",
       "\n",
       "    .dataframe thead th {\n",
       "        text-align: right;\n",
       "    }\n",
       "</style>\n",
       "<table border=\"1\" class=\"dataframe\">\n",
       "  <thead>\n",
       "    <tr style=\"text-align: right;\">\n",
       "      <th></th>\n",
       "      <th>AverageShortestPathLength</th>\n",
       "      <th>BetweennessCentrality</th>\n",
       "      <th>ClosenessCentrality</th>\n",
       "      <th>ClusteringCoefficient</th>\n",
       "      <th>Degree</th>\n",
       "      <th>Eccentricity</th>\n",
       "      <th>IsSingleNode</th>\n",
       "      <th>NeighborhoodConnectivity</th>\n",
       "      <th>NumberOfUndirectedEdges</th>\n",
       "      <th>PartnerOfMultiEdgedNodePairs</th>\n",
       "      <th>Radiality</th>\n",
       "      <th>Stress</th>\n",
       "      <th>TopologicalCoefficient</th>\n",
       "      <th>Role</th>\n",
       "    </tr>\n",
       "  </thead>\n",
       "  <tbody>\n",
       "    <tr>\n",
       "      <th>0</th>\n",
       "      <td>7.284477</td>\n",
       "      <td>0.003115</td>\n",
       "      <td>0.137278</td>\n",
       "      <td>0.214286</td>\n",
       "      <td>24</td>\n",
       "      <td>14</td>\n",
       "      <td>False</td>\n",
       "      <td>3.000000</td>\n",
       "      <td>24</td>\n",
       "      <td>8</td>\n",
       "      <td>0.934537</td>\n",
       "      <td>421940</td>\n",
       "      <td>0.250000</td>\n",
       "      <td>1</td>\n",
       "    </tr>\n",
       "    <tr>\n",
       "      <th>1</th>\n",
       "      <td>7.285516</td>\n",
       "      <td>0.001038</td>\n",
       "      <td>0.137259</td>\n",
       "      <td>0.400000</td>\n",
       "      <td>16</td>\n",
       "      <td>14</td>\n",
       "      <td>False</td>\n",
       "      <td>4.000000</td>\n",
       "      <td>16</td>\n",
       "      <td>5</td>\n",
       "      <td>0.934526</td>\n",
       "      <td>210960</td>\n",
       "      <td>0.333333</td>\n",
       "      <td>1</td>\n",
       "    </tr>\n",
       "    <tr>\n",
       "      <th>2</th>\n",
       "      <td>6.289328</td>\n",
       "      <td>0.005531</td>\n",
       "      <td>0.159000</td>\n",
       "      <td>0.466667</td>\n",
       "      <td>12</td>\n",
       "      <td>13</td>\n",
       "      <td>False</td>\n",
       "      <td>7.833333</td>\n",
       "      <td>12</td>\n",
       "      <td>6</td>\n",
       "      <td>0.944903</td>\n",
       "      <td>773476</td>\n",
       "      <td>0.290123</td>\n",
       "      <td>2</td>\n",
       "    </tr>\n",
       "    <tr>\n",
       "      <th>3</th>\n",
       "      <td>5.621275</td>\n",
       "      <td>0.007808</td>\n",
       "      <td>0.177896</td>\n",
       "      <td>0.181818</td>\n",
       "      <td>30</td>\n",
       "      <td>13</td>\n",
       "      <td>False</td>\n",
       "      <td>8.750000</td>\n",
       "      <td>30</td>\n",
       "      <td>12</td>\n",
       "      <td>0.951862</td>\n",
       "      <td>1181032</td>\n",
       "      <td>0.128676</td>\n",
       "      <td>1</td>\n",
       "    </tr>\n",
       "    <tr>\n",
       "      <th>4</th>\n",
       "      <td>5.477131</td>\n",
       "      <td>0.000479</td>\n",
       "      <td>0.182577</td>\n",
       "      <td>0.523810</td>\n",
       "      <td>16</td>\n",
       "      <td>13</td>\n",
       "      <td>False</td>\n",
       "      <td>22.285714</td>\n",
       "      <td>16</td>\n",
       "      <td>7</td>\n",
       "      <td>0.953363</td>\n",
       "      <td>121978</td>\n",
       "      <td>0.327731</td>\n",
       "      <td>2</td>\n",
       "    </tr>\n",
       "  </tbody>\n",
       "</table>\n",
       "</div>"
      ],
      "text/plain": [
       "   AverageShortestPathLength  BetweennessCentrality  ClosenessCentrality  \\\n",
       "0                   7.284477               0.003115             0.137278   \n",
       "1                   7.285516               0.001038             0.137259   \n",
       "2                   6.289328               0.005531             0.159000   \n",
       "3                   5.621275               0.007808             0.177896   \n",
       "4                   5.477131               0.000479             0.182577   \n",
       "\n",
       "   ClusteringCoefficient  Degree  Eccentricity  IsSingleNode  \\\n",
       "0               0.214286      24            14         False   \n",
       "1               0.400000      16            14         False   \n",
       "2               0.466667      12            13         False   \n",
       "3               0.181818      30            13         False   \n",
       "4               0.523810      16            13         False   \n",
       "\n",
       "   NeighborhoodConnectivity  NumberOfUndirectedEdges  \\\n",
       "0                  3.000000                       24   \n",
       "1                  4.000000                       16   \n",
       "2                  7.833333                       12   \n",
       "3                  8.750000                       30   \n",
       "4                 22.285714                       16   \n",
       "\n",
       "   PartnerOfMultiEdgedNodePairs  Radiality   Stress  TopologicalCoefficient  \\\n",
       "0                             8   0.934537   421940                0.250000   \n",
       "1                             5   0.934526   210960                0.333333   \n",
       "2                             6   0.944903   773476                0.290123   \n",
       "3                            12   0.951862  1181032                0.128676   \n",
       "4                             7   0.953363   121978                0.327731   \n",
       "\n",
       "   Role  \n",
       "0     1  \n",
       "1     1  \n",
       "2     2  \n",
       "3     1  \n",
       "4     2  "
      ]
     },
     "execution_count": 74,
     "metadata": {},
     "output_type": "execute_result"
    }
   ],
   "source": [
    "#lendo os dados\n",
    "bd = pd.read_csv('sic-rotulado.csv')\n",
    "\n",
    "#verificando as 5 primeiras linhas\n",
    "bd.head()"
   ]
  },
  {
   "cell_type": "code",
   "execution_count": 75,
   "id": "bdd921b9-e0a0-4ac0-a1f1-25a12973ae0a",
   "metadata": {},
   "outputs": [],
   "source": [
    "#y recebe apenas a coluna role\n",
    "y = bd.iloc[:,13].values"
   ]
  },
  {
   "cell_type": "code",
   "execution_count": 76,
   "id": "46efb7d2-1fe6-4bf6-83b4-af6c161e261a",
   "metadata": {},
   "outputs": [
    {
     "data": {
      "text/plain": [
       "{1: 492,\n",
       " 2: 526,\n",
       " 7: 58,\n",
       " 8: 3,\n",
       " 9: 1,\n",
       " 1002: 5,\n",
       " 1004: 1,\n",
       " 1006: 1,\n",
       " 1009: 3,\n",
       " 1010: 11,\n",
       " 1011: 2,\n",
       " 1012: 1,\n",
       " 1013: 1,\n",
       " 1015: 1,\n",
       " 1033: 1,\n",
       " 1035: 2,\n",
       " 1041: 4,\n",
       " 1042: 1,\n",
       " 1045: 2,\n",
       " 1052: 2,\n",
       " 1056: 1,\n",
       " 1060: 1,\n",
       " 1065: 1}"
      ]
     },
     "execution_count": 76,
     "metadata": {},
     "output_type": "execute_result"
    }
   ],
   "source": [
    "#conta ocorrências da coluna Role por atributo\n",
    "unique, counts = np.unique(y, return_counts=True)\n",
    "dict(zip(unique, counts))"
   ]
  },
  {
   "cell_type": "code",
   "execution_count": 77,
   "id": "e112354e-4848-4939-b0c0-cb38d6bbac3d",
   "metadata": {},
   "outputs": [],
   "source": [
    "unique_df = pd.DataFrame(unique) \n",
    "counts_df = pd.DataFrame(counts)"
   ]
  },
  {
   "cell_type": "code",
   "execution_count": null,
   "id": "a3282d29-e694-4541-8633-815eca71bce2",
   "metadata": {},
   "outputs": [],
   "source": []
  },
  {
   "cell_type": "code",
   "execution_count": 78,
   "id": "4ba1dc18-6dda-4a9f-9aef-b5049706adca",
   "metadata": {},
   "outputs": [],
   "source": [
    "#crio um novo Banco De Dados, neste seleciono os dados que somente apresentam na coluna ROLE os valores 1,2,7\n",
    "#por serem os que mais se repetem\n",
    "bd_mascara = bd['Role'].isin([1,2,7]) \n",
    "bd_filtrado = bd[bd_mascara]"
   ]
  },
  {
   "cell_type": "code",
   "execution_count": 79,
   "id": "78aa38d5-2fd5-46fe-a228-323898ca83e1",
   "metadata": {},
   "outputs": [
    {
     "data": {
      "text/html": [
       "<div>\n",
       "<style scoped>\n",
       "    .dataframe tbody tr th:only-of-type {\n",
       "        vertical-align: middle;\n",
       "    }\n",
       "\n",
       "    .dataframe tbody tr th {\n",
       "        vertical-align: top;\n",
       "    }\n",
       "\n",
       "    .dataframe thead th {\n",
       "        text-align: right;\n",
       "    }\n",
       "</style>\n",
       "<table border=\"1\" class=\"dataframe\">\n",
       "  <thead>\n",
       "    <tr style=\"text-align: right;\">\n",
       "      <th></th>\n",
       "      <th>AverageShortestPathLength</th>\n",
       "      <th>BetweennessCentrality</th>\n",
       "      <th>ClosenessCentrality</th>\n",
       "      <th>ClusteringCoefficient</th>\n",
       "      <th>Degree</th>\n",
       "      <th>Eccentricity</th>\n",
       "      <th>IsSingleNode</th>\n",
       "      <th>NeighborhoodConnectivity</th>\n",
       "      <th>NumberOfUndirectedEdges</th>\n",
       "      <th>PartnerOfMultiEdgedNodePairs</th>\n",
       "      <th>Radiality</th>\n",
       "      <th>Stress</th>\n",
       "      <th>TopologicalCoefficient</th>\n",
       "      <th>Role</th>\n",
       "    </tr>\n",
       "  </thead>\n",
       "  <tbody>\n",
       "    <tr>\n",
       "      <th>0</th>\n",
       "      <td>7.284477</td>\n",
       "      <td>0.003115</td>\n",
       "      <td>0.137278</td>\n",
       "      <td>0.214286</td>\n",
       "      <td>24</td>\n",
       "      <td>14</td>\n",
       "      <td>False</td>\n",
       "      <td>3.000000</td>\n",
       "      <td>24</td>\n",
       "      <td>8</td>\n",
       "      <td>0.934537</td>\n",
       "      <td>421940</td>\n",
       "      <td>0.250000</td>\n",
       "      <td>1</td>\n",
       "    </tr>\n",
       "    <tr>\n",
       "      <th>1</th>\n",
       "      <td>7.285516</td>\n",
       "      <td>0.001038</td>\n",
       "      <td>0.137259</td>\n",
       "      <td>0.400000</td>\n",
       "      <td>16</td>\n",
       "      <td>14</td>\n",
       "      <td>False</td>\n",
       "      <td>4.000000</td>\n",
       "      <td>16</td>\n",
       "      <td>5</td>\n",
       "      <td>0.934526</td>\n",
       "      <td>210960</td>\n",
       "      <td>0.333333</td>\n",
       "      <td>1</td>\n",
       "    </tr>\n",
       "    <tr>\n",
       "      <th>2</th>\n",
       "      <td>6.289328</td>\n",
       "      <td>0.005531</td>\n",
       "      <td>0.159000</td>\n",
       "      <td>0.466667</td>\n",
       "      <td>12</td>\n",
       "      <td>13</td>\n",
       "      <td>False</td>\n",
       "      <td>7.833333</td>\n",
       "      <td>12</td>\n",
       "      <td>6</td>\n",
       "      <td>0.944903</td>\n",
       "      <td>773476</td>\n",
       "      <td>0.290123</td>\n",
       "      <td>2</td>\n",
       "    </tr>\n",
       "    <tr>\n",
       "      <th>3</th>\n",
       "      <td>5.621275</td>\n",
       "      <td>0.007808</td>\n",
       "      <td>0.177896</td>\n",
       "      <td>0.181818</td>\n",
       "      <td>30</td>\n",
       "      <td>13</td>\n",
       "      <td>False</td>\n",
       "      <td>8.750000</td>\n",
       "      <td>30</td>\n",
       "      <td>12</td>\n",
       "      <td>0.951862</td>\n",
       "      <td>1181032</td>\n",
       "      <td>0.128676</td>\n",
       "      <td>1</td>\n",
       "    </tr>\n",
       "    <tr>\n",
       "      <th>4</th>\n",
       "      <td>5.477131</td>\n",
       "      <td>0.000479</td>\n",
       "      <td>0.182577</td>\n",
       "      <td>0.523810</td>\n",
       "      <td>16</td>\n",
       "      <td>13</td>\n",
       "      <td>False</td>\n",
       "      <td>22.285714</td>\n",
       "      <td>16</td>\n",
       "      <td>7</td>\n",
       "      <td>0.953363</td>\n",
       "      <td>121978</td>\n",
       "      <td>0.327731</td>\n",
       "      <td>2</td>\n",
       "    </tr>\n",
       "  </tbody>\n",
       "</table>\n",
       "</div>"
      ],
      "text/plain": [
       "   AverageShortestPathLength  BetweennessCentrality  ClosenessCentrality  \\\n",
       "0                   7.284477               0.003115             0.137278   \n",
       "1                   7.285516               0.001038             0.137259   \n",
       "2                   6.289328               0.005531             0.159000   \n",
       "3                   5.621275               0.007808             0.177896   \n",
       "4                   5.477131               0.000479             0.182577   \n",
       "\n",
       "   ClusteringCoefficient  Degree  Eccentricity  IsSingleNode  \\\n",
       "0               0.214286      24            14         False   \n",
       "1               0.400000      16            14         False   \n",
       "2               0.466667      12            13         False   \n",
       "3               0.181818      30            13         False   \n",
       "4               0.523810      16            13         False   \n",
       "\n",
       "   NeighborhoodConnectivity  NumberOfUndirectedEdges  \\\n",
       "0                  3.000000                       24   \n",
       "1                  4.000000                       16   \n",
       "2                  7.833333                       12   \n",
       "3                  8.750000                       30   \n",
       "4                 22.285714                       16   \n",
       "\n",
       "   PartnerOfMultiEdgedNodePairs  Radiality   Stress  TopologicalCoefficient  \\\n",
       "0                             8   0.934537   421940                0.250000   \n",
       "1                             5   0.934526   210960                0.333333   \n",
       "2                             6   0.944903   773476                0.290123   \n",
       "3                            12   0.951862  1181032                0.128676   \n",
       "4                             7   0.953363   121978                0.327731   \n",
       "\n",
       "   Role  \n",
       "0     1  \n",
       "1     1  \n",
       "2     2  \n",
       "3     1  \n",
       "4     2  "
      ]
     },
     "execution_count": 79,
     "metadata": {},
     "output_type": "execute_result"
    }
   ],
   "source": [
    "bd_filtrado.head()"
   ]
  },
  {
   "cell_type": "code",
   "execution_count": 80,
   "id": "2e5a4a18-34d8-471b-ba55-bc65d9b24d4c",
   "metadata": {},
   "outputs": [],
   "source": [
    "role = [1, 2, 7]"
   ]
  },
  {
   "cell_type": "code",
   "execution_count": 81,
   "id": "1e922059-15cc-4d92-93a3-74abec6d7e89",
   "metadata": {},
   "outputs": [
    {
     "data": {
      "image/png": "[encoded data removed]",
      "text/plain": [
       "<Figure size 720x432 with 1 Axes>"
      ]
     },
     "metadata": {},
     "output_type": "display_data"
    }
   ],
   "source": [
    "label = unique_df[0].head(3).value_counts().index \n",
    "fig1, ax1 = plt.subplots(figsize=(10, 6), subplot_kw=dict(aspect=\"equal\")) \n",
    "color = sns.color_palette('Dark2', 5) \n",
    "ax1.pie(counts_df[0].head(3), explode=(0.05, 0.05, 0.05), pctdistance=1.2,autopct='%1.1f%%', colors=color, shadow=True, startangle=250) \n",
    "ax1.axis('equal') \n",
    "ax1.set_title(\"3 maiores frequências de ocorrência de RÓTULOS (ROLE)\", fontsize=15) \n",
    "plt.legend(title = \"Rótulos\", labels=label, loc='upper center', bbox_to_anchor=(0.5, -0.04), ncol=5) \n",
    "plt.show() #gráfico de porcentagem"
   ]
  },
  {
   "cell_type": "code",
   "execution_count": 82,
   "id": "9144ceab-6fad-4818-b750-14d017037433",
   "metadata": {},
   "outputs": [],
   "source": [
    "vetor = list(range(30))\n",
    "\n",
    "for I in range(30):\n",
    "\n",
    "    rand = []\n",
    "    for v in range(1121):\n",
    "        #baseado na quantidade de vezes que os rotulos aparecem na coluna role, defino em random.choice a probabilidade deles aparecerem de forma aleatoria\n",
    "        group = int(np.random.choice(role, 1, p=[0.49, 0.46, 0.05]))\n",
    "        rand.append(group)\n",
    "\n",
    "    bd[\"Random\"]=rand\n",
    "\n",
    "    total_iguais = np.sum(bd['Role'] == bd['Random'])\n",
    "    total = len(bd)\n",
    "    acuracia = total_iguais / total\n",
    "    \n",
    "    vetor[I] = acuracia"
   ]
  },
  {
   "cell_type": "code",
   "execution_count": 83,
   "id": "e0abe0e7-7045-415c-84d9-b02fc3aff1db",
   "metadata": {},
   "outputs": [
    {
     "name": "stdout",
     "output_type": "stream",
     "text": [
      "Acuracia: 0.4255129348795718 \n"
     ]
    }
   ],
   "source": [
    "print(f'Acuracia: {acuracia} ')"
   ]
  },
  {
   "cell_type": "code",
   "execution_count": 84,
   "id": "2e019a03-57bd-4daf-afa9-d8cc61d46262",
   "metadata": {},
   "outputs": [
    {
     "data": {
      "image/png": "[encoded data removed]",
      "text/plain": [
       "<Figure size 576x432 with 1 Axes>"
      ]
     },
     "metadata": {},
     "output_type": "display_data"
    }
   ],
   "source": [
    "from importlib import reload\n",
    "reload(plt) #recarregando configurações do plt (erro no gráfico)\n",
    "\n",
    "plt.figure(figsize=(8,6))\n",
    "plt.style.use('ggplot')\n",
    "plt.boxplot(vetor)\n",
    "plt.title('Acurácia do algoritmo ALEATORIO (após 30 execuções)');"
   ]
  },
  {
   "cell_type": "code",
   "execution_count": 85,
   "id": "3683b1ec-c631-4233-af70-342628385e97",
   "metadata": {},
   "outputs": [
    {
     "data": {
      "text/html": [
       "<div>\n",
       "<style scoped>\n",
       "    .dataframe tbody tr th:only-of-type {\n",
       "        vertical-align: middle;\n",
       "    }\n",
       "\n",
       "    .dataframe tbody tr th {\n",
       "        vertical-align: top;\n",
       "    }\n",
       "\n",
       "    .dataframe thead th {\n",
       "        text-align: right;\n",
       "    }\n",
       "</style>\n",
       "<table border=\"1\" class=\"dataframe\">\n",
       "  <thead>\n",
       "    <tr style=\"text-align: right;\">\n",
       "      <th></th>\n",
       "      <th>AverageShortestPathLength</th>\n",
       "      <th>BetweennessCentrality</th>\n",
       "      <th>ClosenessCentrality</th>\n",
       "      <th>ClusteringCoefficient</th>\n",
       "      <th>Degree</th>\n",
       "      <th>Eccentricity</th>\n",
       "      <th>IsSingleNode</th>\n",
       "      <th>NeighborhoodConnectivity</th>\n",
       "      <th>NumberOfUndirectedEdges</th>\n",
       "      <th>PartnerOfMultiEdgedNodePairs</th>\n",
       "      <th>Radiality</th>\n",
       "      <th>Stress</th>\n",
       "      <th>TopologicalCoefficient</th>\n",
       "      <th>Role</th>\n",
       "      <th>Random</th>\n",
       "    </tr>\n",
       "  </thead>\n",
       "  <tbody>\n",
       "    <tr>\n",
       "      <th>0</th>\n",
       "      <td>7.284477</td>\n",
       "      <td>0.003115</td>\n",
       "      <td>0.137278</td>\n",
       "      <td>0.214286</td>\n",
       "      <td>24</td>\n",
       "      <td>14</td>\n",
       "      <td>False</td>\n",
       "      <td>3.000000</td>\n",
       "      <td>24</td>\n",
       "      <td>8</td>\n",
       "      <td>0.934537</td>\n",
       "      <td>421940</td>\n",
       "      <td>0.250000</td>\n",
       "      <td>1</td>\n",
       "      <td>1</td>\n",
       "    </tr>\n",
       "    <tr>\n",
       "      <th>1</th>\n",
       "      <td>7.285516</td>\n",
       "      <td>0.001038</td>\n",
       "      <td>0.137259</td>\n",
       "      <td>0.400000</td>\n",
       "      <td>16</td>\n",
       "      <td>14</td>\n",
       "      <td>False</td>\n",
       "      <td>4.000000</td>\n",
       "      <td>16</td>\n",
       "      <td>5</td>\n",
       "      <td>0.934526</td>\n",
       "      <td>210960</td>\n",
       "      <td>0.333333</td>\n",
       "      <td>1</td>\n",
       "      <td>2</td>\n",
       "    </tr>\n",
       "    <tr>\n",
       "      <th>2</th>\n",
       "      <td>6.289328</td>\n",
       "      <td>0.005531</td>\n",
       "      <td>0.159000</td>\n",
       "      <td>0.466667</td>\n",
       "      <td>12</td>\n",
       "      <td>13</td>\n",
       "      <td>False</td>\n",
       "      <td>7.833333</td>\n",
       "      <td>12</td>\n",
       "      <td>6</td>\n",
       "      <td>0.944903</td>\n",
       "      <td>773476</td>\n",
       "      <td>0.290123</td>\n",
       "      <td>2</td>\n",
       "      <td>1</td>\n",
       "    </tr>\n",
       "    <tr>\n",
       "      <th>3</th>\n",
       "      <td>5.621275</td>\n",
       "      <td>0.007808</td>\n",
       "      <td>0.177896</td>\n",
       "      <td>0.181818</td>\n",
       "      <td>30</td>\n",
       "      <td>13</td>\n",
       "      <td>False</td>\n",
       "      <td>8.750000</td>\n",
       "      <td>30</td>\n",
       "      <td>12</td>\n",
       "      <td>0.951862</td>\n",
       "      <td>1181032</td>\n",
       "      <td>0.128676</td>\n",
       "      <td>1</td>\n",
       "      <td>2</td>\n",
       "    </tr>\n",
       "    <tr>\n",
       "      <th>4</th>\n",
       "      <td>5.477131</td>\n",
       "      <td>0.000479</td>\n",
       "      <td>0.182577</td>\n",
       "      <td>0.523810</td>\n",
       "      <td>16</td>\n",
       "      <td>13</td>\n",
       "      <td>False</td>\n",
       "      <td>22.285714</td>\n",
       "      <td>16</td>\n",
       "      <td>7</td>\n",
       "      <td>0.953363</td>\n",
       "      <td>121978</td>\n",
       "      <td>0.327731</td>\n",
       "      <td>2</td>\n",
       "      <td>1</td>\n",
       "    </tr>\n",
       "  </tbody>\n",
       "</table>\n",
       "</div>"
      ],
      "text/plain": [
       "   AverageShortestPathLength  BetweennessCentrality  ClosenessCentrality  \\\n",
       "0                   7.284477               0.003115             0.137278   \n",
       "1                   7.285516               0.001038             0.137259   \n",
       "2                   6.289328               0.005531             0.159000   \n",
       "3                   5.621275               0.007808             0.177896   \n",
       "4                   5.477131               0.000479             0.182577   \n",
       "\n",
       "   ClusteringCoefficient  Degree  Eccentricity  IsSingleNode  \\\n",
       "0               0.214286      24            14         False   \n",
       "1               0.400000      16            14         False   \n",
       "2               0.466667      12            13         False   \n",
       "3               0.181818      30            13         False   \n",
       "4               0.523810      16            13         False   \n",
       "\n",
       "   NeighborhoodConnectivity  NumberOfUndirectedEdges  \\\n",
       "0                  3.000000                       24   \n",
       "1                  4.000000                       16   \n",
       "2                  7.833333                       12   \n",
       "3                  8.750000                       30   \n",
       "4                 22.285714                       16   \n",
       "\n",
       "   PartnerOfMultiEdgedNodePairs  Radiality   Stress  TopologicalCoefficient  \\\n",
       "0                             8   0.934537   421940                0.250000   \n",
       "1                             5   0.934526   210960                0.333333   \n",
       "2                             6   0.944903   773476                0.290123   \n",
       "3                            12   0.951862  1181032                0.128676   \n",
       "4                             7   0.953363   121978                0.327731   \n",
       "\n",
       "   Role  Random  \n",
       "0     1       1  \n",
       "1     1       2  \n",
       "2     2       1  \n",
       "3     1       2  \n",
       "4     2       1  "
      ]
     },
     "execution_count": 85,
     "metadata": {},
     "output_type": "execute_result"
    }
   ],
   "source": [
    "bd.head()"
   ]
  },
  {
   "cell_type": "code",
   "execution_count": 86,
   "id": "d84856a0-f8be-44e6-8ad9-50aa8b4d1c79",
   "metadata": {},
   "outputs": [],
   "source": [
    "#x recebe apenas a coluna random\n",
    "x = bd.iloc[:,14].values"
   ]
  },
  {
   "cell_type": "code",
   "execution_count": 87,
   "id": "383e822b-bb46-47a9-9074-3baac25b615c",
   "metadata": {},
   "outputs": [
    {
     "data": {
      "text/plain": [
       "array([1, 2, 1, ..., 2, 1, 1], dtype=int64)"
      ]
     },
     "execution_count": 87,
     "metadata": {},
     "output_type": "execute_result"
    }
   ],
   "source": [
    "x"
   ]
  },
  {
   "cell_type": "code",
   "execution_count": 99,
   "id": "bcad062c-354e-419e-9b3f-c217bc563484",
   "metadata": {},
   "outputs": [
    {
     "data": {
      "text/plain": [
       "{1: 516, 2: 535, 7: 70}"
      ]
     },
     "execution_count": 99,
     "metadata": {},
     "output_type": "execute_result"
    }
   ],
   "source": [
    "#conta ocorrências da coluna Random por atributo\n",
    "unique, counts = np.unique(x, return_counts=True)\n",
    "dict(zip(unique, counts))"
   ]
  },
  {
   "cell_type": "code",
   "execution_count": 88,
   "id": "9048c32b-649e-44df-a11c-7df310a694c3",
   "metadata": {},
   "outputs": [],
   "source": [
    "unique_df = pd.DataFrame(unique) \n",
    "counts_df = pd.DataFrame(counts)"
   ]
  },
  {
   "cell_type": "code",
   "execution_count": 97,
   "id": "6d386faf-af24-42c8-8229-8145aec8a4ff",
   "metadata": {},
   "outputs": [
    {
     "data": {
      "text/plain": [
       "{1: 516, 2: 535, 7: 70}"
      ]
     },
     "execution_count": 97,
     "metadata": {},
     "output_type": "execute_result"
    }
   ],
   "source": []
  },
  {
   "cell_type": "code",
   "execution_count": 98,
   "id": "66ae05fa-179a-482c-856b-41c542dd3ca3",
   "metadata": {},
   "outputs": [
    {
     "data": {
      "image/png": "[encoded data removed]",
      "text/plain": [
       "<Figure size 720x432 with 1 Axes>"
      ]
     },
     "metadata": {},
     "output_type": "display_data"
    }
   ],
   "source": [
    "label = unique_df[0].head(3).value_counts().index \n",
    "fig1, ax1 = plt.subplots(figsize=(10, 6), subplot_kw=dict(aspect=\"equal\")) \n",
    "color = sns.color_palette('Dark2', 5) \n",
    "ax1.pie(counts_df[0].head(3), explode=(0.05, 0.05, 0.05), pctdistance=1.2,autopct='%1.1f%%', colors=color, shadow=True, startangle=250) \n",
    "ax1.axis('equal') \n",
    "ax1.set_title(\"Frequências de ocorrência de RANDOM\", fontsize=15) \n",
    "plt.legend(title = \"Rótulos\", labels=label, loc='upper center', bbox_to_anchor=(0.5, -0.04), ncol=5) \n",
    "plt.show() #gráfico de porcentagem"
   ]
  },
  {
   "cell_type": "code",
   "execution_count": 91,
   "id": "8081ef13-7682-43d5-a8b9-78c929b7c438",
   "metadata": {},
   "outputs": [
    {
     "data": {
      "text/plain": [
       "'# inicializa a semente para 25 \\nrandom.seed(25) # configurando a sequência \\nmyseq = [ \\n    \"Towards\", \\n    \"AI\", \\n    \"is\", \\n    1, \\n] # escolhendo aleatoriamente elementos da sequência com probabilidades definidas \\n# A probabilidade para o o valor a ser \\'Para\\' é definido como 0,1 \\n# A probabilidade de o valor ser \\'AI\\' é definida como 0,6 \\n# A probabilidade de o valor ser \\'é\\' é definida como 0,05 \\n# A probabilidade de o xccccr ser ser 1 é definido como 0,25\\nnp.random.choice(myseq, 5, p=[0.1, 0.6, 0.05, 0.25])'"
      ]
     },
     "execution_count": 91,
     "metadata": {},
     "output_type": "execute_result"
    }
   ],
   "source": [
    "'''# inicializa a semente para 25 \n",
    "random.seed(25) # configurando a sequência \n",
    "myseq = [ \n",
    "    \"Towards\", \n",
    "    \"AI\", \n",
    "    \"is\", \n",
    "    1, \n",
    "] # escolhendo aleatoriamente elementos da sequência com probabilidades definidas \n",
    "# A probabilidade para o o valor a ser 'Para' é definido como 0,1 \n",
    "# A probabilidade de o valor ser 'AI' é definida como 0,6 \n",
    "# A probabilidade de o valor ser 'é' é definida como 0,05 \n",
    "# A probabilidade de o xccccr ser ser 1 é definido como 0,25\n",
    "np.random.choice(myseq, 5, p=[0.1, 0.6, 0.05, 0.25])'''"
   ]
  },
  {
   "cell_type": "code",
   "execution_count": 92,
   "id": "23a72ac2-6ddf-437a-bc10-ce756003f372",
   "metadata": {},
   "outputs": [
    {
     "data": {
      "text/plain": [
       "'np.random.choice(role, 1, p=[0.49, 0.46, 0.05])'"
      ]
     },
     "execution_count": 92,
     "metadata": {},
     "output_type": "execute_result"
    }
   ],
   "source": [
    "'''np.random.choice(role, 1, p=[0.49, 0.46, 0.05])'''"
   ]
  },
  {
   "cell_type": "code",
   "execution_count": null,
   "id": "fd32479e-9bc8-4a84-b81f-30b77ebc291d",
   "metadata": {},
   "outputs": [],
   "source": []
  }
 ],
 "metadata": {
  "kernelspec": {
   "display_name": "Python 3 (ipykernel)",
   "language": "python",
   "name": "python3"
  },
  "language_info": {
   "codemirror_mode": {
    "name": "ipython",
    "version": 3
   },
   "file_extension": ".py",
   "mimetype": "text/x-python",
   "name": "python",
   "nbconvert_exporter": "python",
   "pygments_lexer": "ipython3",
   "version": "3.9.12"
  }
 },
 "nbformat": 4,
 "nbformat_minor": 5
}
