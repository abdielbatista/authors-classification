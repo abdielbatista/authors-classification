{
 "cells": [
  {
   "cell_type": "code",
   "execution_count": 76,
   "id": "4a4e4102-bafd-4182-8bf9-16c2842bb960",
   "metadata": {},
   "outputs": [],
   "source": [
    "%matplotlib inline\n",
    "import matplotlib.pyplot as plt\n",
    "import numpy as np\n",
    "\n",
    "\n",
    "\n",
    "from sklearn import datasets\n",
    "from sklearn import preprocessing\n",
    "from sklearn.model_selection import train_test_split\n",
    "from collections import Counter"
   ]
  },
  {
   "cell_type": "code",
   "execution_count": 77,
   "id": "8e9e5659-8564-49ad-8d5b-b558a8559f58",
   "metadata": {},
   "outputs": [
    {
     "data": {
      "text/html": [
       "<div>\n",
       "<style scoped>\n",
       "    .dataframe tbody tr th:only-of-type {\n",
       "        vertical-align: middle;\n",
       "    }\n",
       "\n",
       "    .dataframe tbody tr th {\n",
       "        vertical-align: top;\n",
       "    }\n",
       "\n",
       "    .dataframe thead th {\n",
       "        text-align: right;\n",
       "    }\n",
       "</style>\n",
       "<table border=\"1\" class=\"dataframe\">\n",
       "  <thead>\n",
       "    <tr style=\"text-align: right;\">\n",
       "      <th></th>\n",
       "      <th>AverageShortestPathLength</th>\n",
       "      <th>BetweennessCentrality</th>\n",
       "      <th>ClosenessCentrality</th>\n",
       "      <th>ClusteringCoefficient</th>\n",
       "      <th>Degree</th>\n",
       "      <th>Eccentricity</th>\n",
       "      <th>IsSingleNode</th>\n",
       "      <th>NeighborhoodConnectivity</th>\n",
       "      <th>NumberOfUndirectedEdges</th>\n",
       "      <th>PartnerOfMultiEdgedNodePairs</th>\n",
       "      <th>Radiality</th>\n",
       "      <th>Stress</th>\n",
       "      <th>TopologicalCoefficient</th>\n",
       "      <th>Role</th>\n",
       "    </tr>\n",
       "  </thead>\n",
       "  <tbody>\n",
       "    <tr>\n",
       "      <th>0</th>\n",
       "      <td>7.284477</td>\n",
       "      <td>0.003115</td>\n",
       "      <td>0.137278</td>\n",
       "      <td>0.214286</td>\n",
       "      <td>24</td>\n",
       "      <td>14</td>\n",
       "      <td>False</td>\n",
       "      <td>3.000000</td>\n",
       "      <td>24</td>\n",
       "      <td>8</td>\n",
       "      <td>0.934537</td>\n",
       "      <td>421940</td>\n",
       "      <td>0.250000</td>\n",
       "      <td>1</td>\n",
       "    </tr>\n",
       "    <tr>\n",
       "      <th>1</th>\n",
       "      <td>7.285516</td>\n",
       "      <td>0.001038</td>\n",
       "      <td>0.137259</td>\n",
       "      <td>0.400000</td>\n",
       "      <td>16</td>\n",
       "      <td>14</td>\n",
       "      <td>False</td>\n",
       "      <td>4.000000</td>\n",
       "      <td>16</td>\n",
       "      <td>5</td>\n",
       "      <td>0.934526</td>\n",
       "      <td>210960</td>\n",
       "      <td>0.333333</td>\n",
       "      <td>1</td>\n",
       "    </tr>\n",
       "    <tr>\n",
       "      <th>2</th>\n",
       "      <td>6.289328</td>\n",
       "      <td>0.005531</td>\n",
       "      <td>0.159000</td>\n",
       "      <td>0.466667</td>\n",
       "      <td>12</td>\n",
       "      <td>13</td>\n",
       "      <td>False</td>\n",
       "      <td>7.833333</td>\n",
       "      <td>12</td>\n",
       "      <td>6</td>\n",
       "      <td>0.944903</td>\n",
       "      <td>773476</td>\n",
       "      <td>0.290123</td>\n",
       "      <td>2</td>\n",
       "    </tr>\n",
       "    <tr>\n",
       "      <th>3</th>\n",
       "      <td>5.621275</td>\n",
       "      <td>0.007808</td>\n",
       "      <td>0.177896</td>\n",
       "      <td>0.181818</td>\n",
       "      <td>30</td>\n",
       "      <td>13</td>\n",
       "      <td>False</td>\n",
       "      <td>8.750000</td>\n",
       "      <td>30</td>\n",
       "      <td>12</td>\n",
       "      <td>0.951862</td>\n",
       "      <td>1181032</td>\n",
       "      <td>0.128676</td>\n",
       "      <td>1</td>\n",
       "    </tr>\n",
       "    <tr>\n",
       "      <th>4</th>\n",
       "      <td>5.477131</td>\n",
       "      <td>0.000479</td>\n",
       "      <td>0.182577</td>\n",
       "      <td>0.523810</td>\n",
       "      <td>16</td>\n",
       "      <td>13</td>\n",
       "      <td>False</td>\n",
       "      <td>22.285714</td>\n",
       "      <td>16</td>\n",
       "      <td>7</td>\n",
       "      <td>0.953363</td>\n",
       "      <td>121978</td>\n",
       "      <td>0.327731</td>\n",
       "      <td>2</td>\n",
       "    </tr>\n",
       "  </tbody>\n",
       "</table>\n",
       "</div>"
      ],
      "text/plain": [
       "   AverageShortestPathLength  BetweennessCentrality  ClosenessCentrality  \\\n",
       "0                   7.284477               0.003115             0.137278   \n",
       "1                   7.285516               0.001038             0.137259   \n",
       "2                   6.289328               0.005531             0.159000   \n",
       "3                   5.621275               0.007808             0.177896   \n",
       "4                   5.477131               0.000479             0.182577   \n",
       "\n",
       "   ClusteringCoefficient  Degree  Eccentricity  IsSingleNode  \\\n",
       "0               0.214286      24            14         False   \n",
       "1               0.400000      16            14         False   \n",
       "2               0.466667      12            13         False   \n",
       "3               0.181818      30            13         False   \n",
       "4               0.523810      16            13         False   \n",
       "\n",
       "   NeighborhoodConnectivity  NumberOfUndirectedEdges  \\\n",
       "0                  3.000000                       24   \n",
       "1                  4.000000                       16   \n",
       "2                  7.833333                       12   \n",
       "3                  8.750000                       30   \n",
       "4                 22.285714                       16   \n",
       "\n",
       "   PartnerOfMultiEdgedNodePairs  Radiality   Stress  TopologicalCoefficient  \\\n",
       "0                             8   0.934537   421940                0.250000   \n",
       "1                             5   0.934526   210960                0.333333   \n",
       "2                             6   0.944903   773476                0.290123   \n",
       "3                            12   0.951862  1181032                0.128676   \n",
       "4                             7   0.953363   121978                0.327731   \n",
       "\n",
       "   Role  \n",
       "0     1  \n",
       "1     1  \n",
       "2     2  \n",
       "3     1  \n",
       "4     2  "
      ]
     },
     "execution_count": 77,
     "metadata": {},
     "output_type": "execute_result"
    }
   ],
   "source": [
    "#lendo os dados\n",
    "bd = pd.read_csv('sic-rotulado.csv')\n",
    "\n",
    "#verificando as 5 primeiras linhas\n",
    "bd.head()"
   ]
  },
  {
   "cell_type": "code",
   "execution_count": 78,
   "id": "a2e8fa15-5d13-4740-847f-48da3b75bdb8",
   "metadata": {},
   "outputs": [],
   "source": [
    "#X recebe todos os dados\n",
    "X = bd.iloc[:,:-1].values\n",
    "\n",
    "#y recebe apenas a coluna role\n",
    "y = bd.iloc[:,13].values"
   ]
  },
  {
   "cell_type": "code",
   "execution_count": 79,
   "id": "e80e971c-936e-4aeb-a4d5-12ef55e1e622",
   "metadata": {},
   "outputs": [],
   "source": [
    "X_train, X_test, y_train, y_test = train_test_split(X, y, test_size = 0.40)"
   ]
  },
  {
   "cell_type": "code",
   "execution_count": 80,
   "id": "1bb9aad2-5276-4ad2-a186-a467c743cf11",
   "metadata": {},
   "outputs": [],
   "source": [
    "from sklearn.preprocessing import StandardScaler\n",
    "sc = StandardScaler()\n",
    "X_train = sc.fit_transform(X_train)\n",
    "X_test = sc.transform(X_test)"
   ]
  },
  {
   "cell_type": "code",
   "execution_count": 81,
   "id": "bd6690e3-3dce-42d7-bf62-6e810ccb92f2",
   "metadata": {},
   "outputs": [
    {
     "data": {
      "text/plain": [
       "LogisticRegression(max_iter=2000)"
      ]
     },
     "execution_count": 81,
     "metadata": {},
     "output_type": "execute_result"
    }
   ],
   "source": [
    "# Fitting Logistic Regression to the Training set\n",
    "from sklearn.linear_model import LogisticRegression\n",
    "\n",
    "classifier = LogisticRegression(solver='lbfgs', multi_class='auto', max_iter=2000)\n",
    "classifier.fit(X_train, y_train)"
   ]
  },
  {
   "cell_type": "code",
   "execution_count": 82,
   "id": "1f51ae80-644b-4046-802e-8568e938c89d",
   "metadata": {},
   "outputs": [],
   "source": [
    "y_pred = classifier.predict(X_test)"
   ]
  },
  {
   "cell_type": "code",
   "execution_count": 83,
   "id": "b3d4ed91-7c58-403b-a977-1ed785e0d84f",
   "metadata": {},
   "outputs": [
    {
     "name": "stdout",
     "output_type": "stream",
     "text": [
      "Accuracy: 0.5968819599109132\n"
     ]
    }
   ],
   "source": [
    "print(\"Accuracy:\",metrics.accuracy_score(y_test, y_pred))"
   ]
  },
  {
   "cell_type": "code",
   "execution_count": null,
   "id": "d7cfa560-1388-4f5e-ab8d-e9eff0cf6af6",
   "metadata": {},
   "outputs": [],
   "source": []
  }
 ],
 "metadata": {
  "kernelspec": {
   "display_name": "Python 3 (ipykernel)",
   "language": "python",
   "name": "python3"
  },
  "language_info": {
   "codemirror_mode": {
    "name": "ipython",
    "version": 3
   },
   "file_extension": ".py",
   "mimetype": "text/x-python",
   "name": "python",
   "nbconvert_exporter": "python",
   "pygments_lexer": "ipython3",
   "version": "3.9.12"
  }
 },
 "nbformat": 4,
 "nbformat_minor": 5
}
